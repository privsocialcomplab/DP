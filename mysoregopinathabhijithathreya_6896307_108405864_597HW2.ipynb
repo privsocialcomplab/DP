{
 "cells": [
  {
   "cell_type": "markdown",
   "metadata": {},
   "source": [
    "# PSU IST 597.001: Homework 2\n",
    "## Differential Privacy"
   ]
  },
  {
   "cell_type": "markdown",
   "metadata": {},
   "source": [
    "### Instructions\n",
    "This assignment follows the same principles as our hands-on in-class activities, and centers around concepts we've discussed in our differential privacy module.\n",
    "\n",
    "To ensure that the notebook runs, I've defined a function your_code_here() that simply returns the number 1. Whenever you see a call to this function, you should replace it with code you have written. Please make sure all cells of your notebook run without error before submitting the assignment. If you have not completed all the questions, leave calls to your_code_here() in place or insert dummy values so that the cell does not throw an error when it runs.\n",
    "\n",
    "When answering non-code questions, feel free to use a comment, or put the cell in Markdown mode and use Markdown.\n",
    "The point value of each question is listed with the question, and these add up to 100 points. The assignment is due by 9:00am on Wednesdsay, March 25. When you have finished your assignment, please submit it via Canvas."
   ]
  },
  {
   "cell_type": "code",
   "execution_count": 5,
   "metadata": {},
   "outputs": [
    {
     "data": {
      "text/html": [
       "<style>.container { width:80% !important; }</style>"
      ],
      "text/plain": [
       "<IPython.core.display.HTML object>"
      ]
     },
     "metadata": {},
     "output_type": "display_data"
    }
   ],
   "source": [
    "from IPython.core.display import display, HTML\n",
    "display(HTML(\"<style>.container { width:80% !important; }</style>\"))"
   ]
  },
  {
   "cell_type": "markdown",
   "metadata": {},
   "source": [
    "### Preamble"
   ]
  },
  {
   "cell_type": "code",
   "execution_count": 6,
   "metadata": {},
   "outputs": [
    {
     "data": {
      "text/html": [
       "<div>\n",
       "<style scoped>\n",
       "    .dataframe tbody tr th:only-of-type {\n",
       "        vertical-align: middle;\n",
       "    }\n",
       "\n",
       "    .dataframe tbody tr th {\n",
       "        vertical-align: top;\n",
       "    }\n",
       "\n",
       "    .dataframe thead th {\n",
       "        text-align: right;\n",
       "    }\n",
       "</style>\n",
       "<table border=\"1\" class=\"dataframe\">\n",
       "  <thead>\n",
       "    <tr style=\"text-align: right;\">\n",
       "      <th></th>\n",
       "      <th>Name</th>\n",
       "      <th>DOB</th>\n",
       "      <th>SSN</th>\n",
       "      <th>Zip</th>\n",
       "      <th>Age</th>\n",
       "      <th>Workclass</th>\n",
       "      <th>fnlwgt</th>\n",
       "      <th>Education</th>\n",
       "      <th>Education-Num</th>\n",
       "      <th>Martial Status</th>\n",
       "      <th>Occupation</th>\n",
       "      <th>Relationship</th>\n",
       "      <th>Race</th>\n",
       "      <th>Sex</th>\n",
       "      <th>Capital Gain</th>\n",
       "      <th>Capital Loss</th>\n",
       "      <th>Hours per week</th>\n",
       "      <th>Country</th>\n",
       "      <th>Target</th>\n",
       "    </tr>\n",
       "  </thead>\n",
       "  <tbody>\n",
       "    <tr>\n",
       "      <th>0</th>\n",
       "      <td>Karrie Trusslove</td>\n",
       "      <td>1967-09-07</td>\n",
       "      <td>732-14-6110</td>\n",
       "      <td>64152</td>\n",
       "      <td>39</td>\n",
       "      <td>State-gov</td>\n",
       "      <td>77516</td>\n",
       "      <td>Bachelors</td>\n",
       "      <td>13</td>\n",
       "      <td>Never-married</td>\n",
       "      <td>Adm-clerical</td>\n",
       "      <td>Not-in-family</td>\n",
       "      <td>White</td>\n",
       "      <td>Male</td>\n",
       "      <td>2174</td>\n",
       "      <td>0</td>\n",
       "      <td>40</td>\n",
       "      <td>United-States</td>\n",
       "      <td>&lt;=50K</td>\n",
       "    </tr>\n",
       "    <tr>\n",
       "      <th>1</th>\n",
       "      <td>Brandise Tripony</td>\n",
       "      <td>1988-06-07</td>\n",
       "      <td>150-19-2766</td>\n",
       "      <td>61523</td>\n",
       "      <td>50</td>\n",
       "      <td>Self-emp-not-inc</td>\n",
       "      <td>83311</td>\n",
       "      <td>Bachelors</td>\n",
       "      <td>13</td>\n",
       "      <td>Married-civ-spouse</td>\n",
       "      <td>Exec-managerial</td>\n",
       "      <td>Husband</td>\n",
       "      <td>White</td>\n",
       "      <td>Male</td>\n",
       "      <td>0</td>\n",
       "      <td>0</td>\n",
       "      <td>13</td>\n",
       "      <td>United-States</td>\n",
       "      <td>&lt;=50K</td>\n",
       "    </tr>\n",
       "    <tr>\n",
       "      <th>2</th>\n",
       "      <td>Brenn McNeely</td>\n",
       "      <td>1991-08-06</td>\n",
       "      <td>725-59-9860</td>\n",
       "      <td>95668</td>\n",
       "      <td>38</td>\n",
       "      <td>Private</td>\n",
       "      <td>215646</td>\n",
       "      <td>HS-grad</td>\n",
       "      <td>9</td>\n",
       "      <td>Divorced</td>\n",
       "      <td>Handlers-cleaners</td>\n",
       "      <td>Not-in-family</td>\n",
       "      <td>White</td>\n",
       "      <td>Male</td>\n",
       "      <td>0</td>\n",
       "      <td>0</td>\n",
       "      <td>40</td>\n",
       "      <td>United-States</td>\n",
       "      <td>&lt;=50K</td>\n",
       "    </tr>\n",
       "    <tr>\n",
       "      <th>3</th>\n",
       "      <td>Dorry Poter</td>\n",
       "      <td>2009-04-06</td>\n",
       "      <td>659-57-4974</td>\n",
       "      <td>25503</td>\n",
       "      <td>53</td>\n",
       "      <td>Private</td>\n",
       "      <td>234721</td>\n",
       "      <td>11th</td>\n",
       "      <td>7</td>\n",
       "      <td>Married-civ-spouse</td>\n",
       "      <td>Handlers-cleaners</td>\n",
       "      <td>Husband</td>\n",
       "      <td>Black</td>\n",
       "      <td>Male</td>\n",
       "      <td>0</td>\n",
       "      <td>0</td>\n",
       "      <td>40</td>\n",
       "      <td>United-States</td>\n",
       "      <td>&lt;=50K</td>\n",
       "    </tr>\n",
       "    <tr>\n",
       "      <th>4</th>\n",
       "      <td>Dick Honnan</td>\n",
       "      <td>1951-09-16</td>\n",
       "      <td>220-93-3811</td>\n",
       "      <td>75387</td>\n",
       "      <td>28</td>\n",
       "      <td>Private</td>\n",
       "      <td>338409</td>\n",
       "      <td>Bachelors</td>\n",
       "      <td>13</td>\n",
       "      <td>Married-civ-spouse</td>\n",
       "      <td>Prof-specialty</td>\n",
       "      <td>Wife</td>\n",
       "      <td>Black</td>\n",
       "      <td>Female</td>\n",
       "      <td>0</td>\n",
       "      <td>0</td>\n",
       "      <td>40</td>\n",
       "      <td>Cuba</td>\n",
       "      <td>&lt;=50K</td>\n",
       "    </tr>\n",
       "  </tbody>\n",
       "</table>\n",
       "</div>"
      ],
      "text/plain": [
       "               Name        DOB          SSN    Zip  Age         Workclass  \\\n",
       "0  Karrie Trusslove 1967-09-07  732-14-6110  64152   39         State-gov   \n",
       "1  Brandise Tripony 1988-06-07  150-19-2766  61523   50  Self-emp-not-inc   \n",
       "2     Brenn McNeely 1991-08-06  725-59-9860  95668   38           Private   \n",
       "3       Dorry Poter 2009-04-06  659-57-4974  25503   53           Private   \n",
       "4       Dick Honnan 1951-09-16  220-93-3811  75387   28           Private   \n",
       "\n",
       "   fnlwgt  Education  Education-Num      Martial Status         Occupation  \\\n",
       "0   77516  Bachelors             13       Never-married       Adm-clerical   \n",
       "1   83311  Bachelors             13  Married-civ-spouse    Exec-managerial   \n",
       "2  215646    HS-grad              9            Divorced  Handlers-cleaners   \n",
       "3  234721       11th              7  Married-civ-spouse  Handlers-cleaners   \n",
       "4  338409  Bachelors             13  Married-civ-spouse     Prof-specialty   \n",
       "\n",
       "    Relationship   Race     Sex  Capital Gain  Capital Loss  Hours per week  \\\n",
       "0  Not-in-family  White    Male          2174             0              40   \n",
       "1        Husband  White    Male             0             0              13   \n",
       "2  Not-in-family  White    Male             0             0              40   \n",
       "3        Husband  Black    Male             0             0              40   \n",
       "4           Wife  Black  Female             0             0              40   \n",
       "\n",
       "         Country Target  \n",
       "0  United-States  <=50K  \n",
       "1  United-States  <=50K  \n",
       "2  United-States  <=50K  \n",
       "3  United-States  <=50K  \n",
       "4           Cuba  <=50K  "
      ]
     },
     "execution_count": 6,
     "metadata": {},
     "output_type": "execute_result"
    }
   ],
   "source": [
    "%matplotlib inline\n",
    "import matplotlib.pyplot as plt\n",
    "plt.style.use('seaborn-whitegrid')\n",
    "import pandas as pd\n",
    "import numpy as np\n",
    "\n",
    "# Our usual dataset\n",
    "\n",
    "adult_data = pd.read_csv(\"adult_with_pii.csv\")\n",
    "adult_data['DOB'] = pd.to_datetime(adult_data['DOB'], errors='coerce')\n",
    "\n",
    "# Some useful utilities from earlier assignments\n",
    "\n",
    "def laplace_mech(v, sensitivity, epsilon):\n",
    "    return v + np.random.laplace(loc=0, scale=sensitivity / epsilon)\n",
    "\n",
    "def pct_error(orig, priv):\n",
    "    orig = np.array(orig)\n",
    "    return np.abs(orig - priv)/orig * 100.0\n",
    "\n",
    "def your_code_here():\n",
    "    return 1\n",
    "adult_data.head()"
   ]
  },
  {
   "cell_type": "markdown",
   "metadata": {},
   "source": [
    "## Collaboration Statement\n",
    "\n",
    "**You are expected to work indepdently on this assignment.** Everyone should write their *own code and responses*. You may collaborate with a classmate through *high level* discussions (only). To the extent that you do so, please describe this in the collaboration statment below."
   ]
  },
  {
   "cell_type": "code",
   "execution_count": 7,
   "metadata": {},
   "outputs": [],
   "source": [
    "# In this cell (in markdown or a comment) write your collaboration statement\n",
    "# I'm working alone."
   ]
  },
  {
   "cell_type": "markdown",
   "metadata": {},
   "source": [
    "### Question 1 (1 point)"
   ]
  },
  {
   "cell_type": "markdown",
   "metadata": {},
   "source": [
    "Write code to answer the following query:\n",
    "\n",
    "`For each marital status in the census data, how many participants had that status?`\n",
    "\n",
    "*Note*: \"marital status\" is misspelled as `Martial Status` in the column names.\n",
    "\n",
    "*Hint*: use `unique()` to obtain the set of unique values in a column, and use `shape[0]` to count the number of rows in a dataframe."
   ]
  },
  {
   "cell_type": "code",
   "execution_count": 8,
   "metadata": {},
   "outputs": [
    {
     "name": "stdout",
     "output_type": "stream",
     "text": [
      "Below is the frequency distribution of Marital status\n"
     ]
    },
    {
     "data": {
      "text/plain": [
       "Married-civ-spouse       14976\n",
       "Never-married            10683\n",
       "Divorced                  4443\n",
       "Separated                 1025\n",
       "Widowed                    993\n",
       "Married-spouse-absent      418\n",
       "Married-AF-spouse           23\n",
       "Name: Martial Status, dtype: int64"
      ]
     },
     "execution_count": 8,
     "metadata": {},
     "output_type": "execute_result"
    }
   ],
   "source": [
    "print(\"Below is the frequency distribution of Marital status\")\n",
    "adult_data['Martial Status'].value_counts()"
   ]
  },
  {
   "cell_type": "markdown",
   "metadata": {},
   "source": [
    ">> +1 point"
   ]
  },
  {
   "cell_type": "markdown",
   "metadata": {},
   "source": [
    "### Question 2 (3 points)\n",
    "\n",
    "Write code to return a differentially private version of your result from the last question. Use the definition of `laplace_mech` above."
   ]
  },
  {
   "cell_type": "code",
   "execution_count": 9,
   "metadata": {},
   "outputs": [
    {
     "data": {
      "text/plain": [
       "Married-civ-spouse       14979.928882\n",
       "Never-married            10681.445681\n",
       "Divorced                  4434.737986\n",
       "Separated                 1016.466812\n",
       "Widowed                    997.397318\n",
       "Married-spouse-absent      401.220370\n",
       "Married-AF-spouse           59.366234\n",
       "Name: Martial Status, dtype: float64"
      ]
     },
     "execution_count": 9,
     "metadata": {},
     "output_type": "execute_result"
    }
   ],
   "source": [
    "# Setting sensitivity = 1, and Epsilon = 0.1\n",
    "adult_data['Martial Status'].value_counts().apply(lambda x: laplace_mech(x, 1, 0.1))"
   ]
  },
  {
   "cell_type": "markdown",
   "metadata": {},
   "source": [
    ">> +3 points"
   ]
  },
  {
   "cell_type": "markdown",
   "metadata": {},
   "source": [
    "### Question 3 (3 points)\n",
    "\n",
    "In the cell below, answer the following in 3-5 sentences:\n",
    "- What is the privacy cost of your answer to the last question, and why?\n",
    "- Does it violate privacy to release the set of unique marital status categories (i.e. the \"histogram bin labels\"), as we do here? Why or why not? \n",
    "- Is the answer to the above point the same for every dataset?"
   ]
  },
  {
   "cell_type": "code",
   "execution_count": 10,
   "metadata": {},
   "outputs": [],
   "source": [
    "# In this cell (in markdown or a comment) write your reponses.\n",
    "# Privacy cost is the chosen Epsilon (0.1). This is because of parallel composition. Individuals can only\n",
    "# have one marital status at a time. Hence, no two chunks have the same individual.\n",
    "# It does not violate privacy if we release the data in form of label:counts format. Reason being,\n",
    "# every bin has more than one count. \n",
    "# Consider dataset with some bin size = 1. Then, say the one-differ dataset has this row removed. \n",
    "# Now number of bins do decrease and the included/excluded row can be identified."
   ]
  },
  {
   "cell_type": "markdown",
   "metadata": {},
   "source": [
    ">> +3 points"
   ]
  },
  {
   "cell_type": "markdown",
   "metadata": {},
   "source": [
    "### Question 4 (5 points)\n",
    "\n",
    "Fill in the following code block to produce graphs of the percent error introduced for each count. Your code should compute 100 differentially private answers for each marital status, then run `pct_error` on each answer to compute the percent error of that answer. The remaining code will plot histograms of the results for each status."
   ]
  },
  {
   "cell_type": "code",
   "execution_count": 11,
   "metadata": {},
   "outputs": [
    {
     "data": {
      "image/png": "[encoded data removed]",
      "text/plain": [
       "<Figure size 576x432 with 7 Axes>"
      ]
     },
     "metadata": {
      "needs_background": "light"
     },
     "output_type": "display_data"
    }
   ],
   "source": [
    "fig = plt.figure()\n",
    "fig.set_size_inches(8, 6)\n",
    "# Setting sensitivity = 1, epsilon = 0.1\n",
    "dom = adult_data['Martial Status'].unique()\n",
    "for status,num in zip(dom, range(1, len(dom)+1)):\n",
    "    orig_vals = [len(adult_data[adult_data['Martial Status'] == status]) for i in range(100)]\n",
    "    distorted_values = [laplace_mech(x, 1, 0.1) for x in orig_vals]\n",
    "    errors = pct_error(orig_vals, distorted_values)\n",
    "    ax = fig.add_subplot(4,2,num)\n",
    "    ax.hist(errors, bins=10)\n",
    "    ax.set_title(status)\n",
    "\n",
    "plt.tight_layout()\n",
    "plt.show()"
   ]
  },
  {
   "cell_type": "markdown",
   "metadata": {},
   "source": [
    ">> +5 points"
   ]
  },
  {
   "cell_type": "markdown",
   "metadata": {},
   "source": [
    "### Question 5 (3 points)\n",
    "\n",
    "In 3-5 sentences, answer the following:\n",
    "- Which marital status tends to have the largest error? Which one has the smallest error?\n",
    "- What is the reason for this discrepency?\n",
    "- Describe a rule of thumb for deciding when a differentially private counting query will yield an accurate result."
   ]
  },
  {
   "cell_type": "code",
   "execution_count": 12,
   "metadata": {},
   "outputs": [],
   "source": [
    "# In this cell (in markdown or a comment) write your reponses.\n",
    "# Largest Error: Married-AF-Spouse - Very few people (Weak signal)\n",
    "# Smallest Error: Married-civ-spouse - More number of people (Strong signal)\n",
    "# The discrepancy is because of the relative counts. Married-AF-Spouse has 23 people,\n",
    "# Married-civ-spouse has 14,976 people. Larger counts are strong signals and tough to disrupt by adding \n",
    "# small noise. On the other hand, shorter counts get disrupted easily by adding weak noise.\n",
    "# rule of thumb: Accuracy is directly proportional to count (signal strength)."
   ]
  },
  {
   "cell_type": "markdown",
   "metadata": {},
   "source": [
    ">> +3 points"
   ]
  },
  {
   "cell_type": "markdown",
   "metadata": {},
   "source": [
    "### Question 6 (2 points)\n",
    "\n",
    "Build a [contingency table](https://en.wikipedia.org/wiki/Contingency_table) between the `Martial Status` and `Sex` columns of the `adult_data` dataframe.\n",
    "\n",
    "*Note*: \"marital status\" is misspelled as `Martial Status` in the column names.\n",
    "\n",
    "*Hint*: use `pd.crosstab(..., ...)` (documentation [here](https://pandas.pydata.org/pandas-docs/stable/generated/pandas.crosstab.html))."
   ]
  },
  {
   "cell_type": "code",
   "execution_count": 13,
   "metadata": {},
   "outputs": [
    {
     "data": {
      "text/html": [
       "<div>\n",
       "<style scoped>\n",
       "    .dataframe tbody tr th:only-of-type {\n",
       "        vertical-align: middle;\n",
       "    }\n",
       "\n",
       "    .dataframe tbody tr th {\n",
       "        vertical-align: top;\n",
       "    }\n",
       "\n",
       "    .dataframe thead th {\n",
       "        text-align: right;\n",
       "    }\n",
       "</style>\n",
       "<table border=\"1\" class=\"dataframe\">\n",
       "  <thead>\n",
       "    <tr style=\"text-align: right;\">\n",
       "      <th>Sex</th>\n",
       "      <th>Female</th>\n",
       "      <th>Male</th>\n",
       "    </tr>\n",
       "    <tr>\n",
       "      <th>Martial Status</th>\n",
       "      <th></th>\n",
       "      <th></th>\n",
       "    </tr>\n",
       "  </thead>\n",
       "  <tbody>\n",
       "    <tr>\n",
       "      <th>Divorced</th>\n",
       "      <td>2672</td>\n",
       "      <td>1771</td>\n",
       "    </tr>\n",
       "    <tr>\n",
       "      <th>Married-AF-spouse</th>\n",
       "      <td>14</td>\n",
       "      <td>9</td>\n",
       "    </tr>\n",
       "    <tr>\n",
       "      <th>Married-civ-spouse</th>\n",
       "      <td>1657</td>\n",
       "      <td>13319</td>\n",
       "    </tr>\n",
       "    <tr>\n",
       "      <th>Married-spouse-absent</th>\n",
       "      <td>205</td>\n",
       "      <td>213</td>\n",
       "    </tr>\n",
       "    <tr>\n",
       "      <th>Never-married</th>\n",
       "      <td>4767</td>\n",
       "      <td>5916</td>\n",
       "    </tr>\n",
       "    <tr>\n",
       "      <th>Separated</th>\n",
       "      <td>631</td>\n",
       "      <td>394</td>\n",
       "    </tr>\n",
       "    <tr>\n",
       "      <th>Widowed</th>\n",
       "      <td>825</td>\n",
       "      <td>168</td>\n",
       "    </tr>\n",
       "  </tbody>\n",
       "</table>\n",
       "</div>"
      ],
      "text/plain": [
       "Sex                    Female   Male\n",
       "Martial Status                      \n",
       "Divorced                 2672   1771\n",
       "Married-AF-spouse          14      9\n",
       "Married-civ-spouse       1657  13319\n",
       "Married-spouse-absent     205    213\n",
       "Never-married            4767   5916\n",
       "Separated                 631    394\n",
       "Widowed                   825    168"
      ]
     },
     "execution_count": 13,
     "metadata": {},
     "output_type": "execute_result"
    }
   ],
   "source": [
    "ct_ms_s = pd.crosstab(adult_data['Martial Status'], adult_data['Sex'])\n",
    "ct_ms_s"
   ]
  },
  {
   "cell_type": "markdown",
   "metadata": {},
   "source": [
    ">> +2 points"
   ]
  },
  {
   "cell_type": "markdown",
   "metadata": {},
   "source": [
    "### Question 7 (3 points)\n",
    "\n",
    "Write code to build a differentially private version of your result from the last question.\n",
    "\n",
    "*Hint*: use `applymap`."
   ]
  },
  {
   "cell_type": "code",
   "execution_count": 14,
   "metadata": {},
   "outputs": [
    {
     "data": {
      "text/html": [
       "<div>\n",
       "<style scoped>\n",
       "    .dataframe tbody tr th:only-of-type {\n",
       "        vertical-align: middle;\n",
       "    }\n",
       "\n",
       "    .dataframe tbody tr th {\n",
       "        vertical-align: top;\n",
       "    }\n",
       "\n",
       "    .dataframe thead th {\n",
       "        text-align: right;\n",
       "    }\n",
       "</style>\n",
       "<table border=\"1\" class=\"dataframe\">\n",
       "  <thead>\n",
       "    <tr style=\"text-align: right;\">\n",
       "      <th>Sex</th>\n",
       "      <th>Female</th>\n",
       "      <th>Male</th>\n",
       "    </tr>\n",
       "    <tr>\n",
       "      <th>Martial Status</th>\n",
       "      <th></th>\n",
       "      <th></th>\n",
       "    </tr>\n",
       "  </thead>\n",
       "  <tbody>\n",
       "    <tr>\n",
       "      <th>Divorced</th>\n",
       "      <td>2652.153281</td>\n",
       "      <td>1780.568234</td>\n",
       "    </tr>\n",
       "    <tr>\n",
       "      <th>Married-AF-spouse</th>\n",
       "      <td>9.475568</td>\n",
       "      <td>3.653094</td>\n",
       "    </tr>\n",
       "    <tr>\n",
       "      <th>Married-civ-spouse</th>\n",
       "      <td>1661.153620</td>\n",
       "      <td>13326.963894</td>\n",
       "    </tr>\n",
       "    <tr>\n",
       "      <th>Married-spouse-absent</th>\n",
       "      <td>185.479138</td>\n",
       "      <td>211.239261</td>\n",
       "    </tr>\n",
       "    <tr>\n",
       "      <th>Never-married</th>\n",
       "      <td>4770.595088</td>\n",
       "      <td>5919.122067</td>\n",
       "    </tr>\n",
       "    <tr>\n",
       "      <th>Separated</th>\n",
       "      <td>641.961629</td>\n",
       "      <td>398.996501</td>\n",
       "    </tr>\n",
       "    <tr>\n",
       "      <th>Widowed</th>\n",
       "      <td>844.295320</td>\n",
       "      <td>162.509056</td>\n",
       "    </tr>\n",
       "  </tbody>\n",
       "</table>\n",
       "</div>"
      ],
      "text/plain": [
       "Sex                         Female          Male\n",
       "Martial Status                                  \n",
       "Divorced               2652.153281   1780.568234\n",
       "Married-AF-spouse         9.475568      3.653094\n",
       "Married-civ-spouse     1661.153620  13326.963894\n",
       "Married-spouse-absent   185.479138    211.239261\n",
       "Never-married          4770.595088   5919.122067\n",
       "Separated               641.961629    398.996501\n",
       "Widowed                 844.295320    162.509056"
      ]
     },
     "execution_count": 14,
     "metadata": {},
     "output_type": "execute_result"
    }
   ],
   "source": [
    "# using sensitivity = 1, epsilon = 0.1\n",
    "dp_ct_ms_s = ct_ms_s.applymap(lambda x: laplace_mech(x, 1, 0.1))\n",
    "dp_ct_ms_s"
   ]
  },
  {
   "cell_type": "markdown",
   "metadata": {},
   "source": [
    ">> +3 points"
   ]
  },
  {
   "cell_type": "markdown",
   "metadata": {},
   "source": [
    "### Question 8 (5 points)\n",
    "\n",
    "Write code to display a table containing percent errors for each of the cells in your answer to the last question.\n",
    "\n",
    "*Hint*: use `applymap` and `pct_error` on your answer to the last question."
   ]
  },
  {
   "cell_type": "code",
   "execution_count": 15,
   "metadata": {},
   "outputs": [
    {
     "name": "stdout",
     "output_type": "stream",
     "text": [
      "Note: An easier method is to apply pct_error like this: \n",
      "ct_ms_s.applymap(lambda x: pct_error(x, laplace_mech(x, 1, 0.1)))\n",
      "This is wrong because, the question asks to display errors for the previous table results (Q7)\n",
      "If I run above then I'm invoking Laplace again and it results in a new set of values\n",
      "........................................................................................\n",
      "Percentage errors of DP results of the previous question\n",
      "----------------------------------------------------------------------------------------\n",
      "Marital Status              Female                      Male                    \n",
      "----------------------------------------------------------------------------------------\n",
      "Divorced                    0.7427664147772923          0.5402729387557736      \n",
      "Married-AF-spouse           32.317371843253035          59.41007030917906       \n",
      "Married-civ-spouse          0.2506710878838688          0.059793486696375596    \n",
      "Married-spouse-absent       9.52237157767129            0.8266380456175556      \n",
      "Never-married               0.07541614697641742         0.05277327596878035     \n",
      "Separated                   1.7371837086356499          1.268147578048272       \n",
      "Widowed                     2.3388266840146104          3.2684193351578523      \n"
     ]
    }
   ],
   "source": [
    "print(\"Note: An easier method is to apply pct_error like this: \")\n",
    "print(\"ct_ms_s.applymap(lambda x: pct_error(x, laplace_mech(x, 1, 0.1)))\")\n",
    "print(\"This is wrong because, the question asks to display errors for the previous table results (Q7)\")\n",
    "print(\"If I run above then I'm invoking Laplace again and it results in a new set of values\")\n",
    "print(\"........................................................................................\")\n",
    "print(\"Percentage errors of DP results of the previous question\")\n",
    "print(\"----------------------------------------------------------------------------------------\")\n",
    "print('{:24}    {:24}    {:24}'.format(\"Marital Status\", \"Female\", \"Male\"))\n",
    "print(\"----------------------------------------------------------------------------------------\")\n",
    "for index, row in dp_ct_ms_s.iterrows():\n",
    "    orig_count_female = ct_ms_s.loc[index, 'Female']\n",
    "    orig_count_male = ct_ms_s.loc[index, 'Male']\n",
    "    pct_error_female = pct_error(orig_count_female, row['Female'])\n",
    "    pct_error_male = pct_error(orig_count_male, row['Male'])\n",
    "    print('{:24}    {:24}    {:24}'.format(index, str(pct_error_female), str(pct_error_male)))"
   ]
  },
  {
   "cell_type": "markdown",
   "metadata": {},
   "source": [
    ">> +5 points"
   ]
  },
  {
   "cell_type": "markdown",
   "metadata": {},
   "source": [
    "### Question 9 (3 points)\n",
    "\n",
    "In 3-5 sentences, answer the following:\n",
    "- What is the privacy cost of your answer to the last question?\n",
    "- For which cells does your solution produce accurate results? For which cells does it produce results with high error?"
   ]
  },
  {
   "cell_type": "code",
   "execution_count": 16,
   "metadata": {},
   "outputs": [],
   "source": [
    "# In this cell (in markdown or a comment) write your reponses.\n",
    "# Privacy cost is the chosen Epsilon (0.1). This is due to parallel composition \n",
    "# and also the differential privacy is shielded by post processing. \n",
    "# Accurate results are produced for cells with least error (high count). Married-civ-spouse, Male. \n",
    "# High errors are induced on cells with lesser count (Married-AF-Spouse, Female and Male )"
   ]
  },
  {
   "cell_type": "markdown",
   "metadata": {},
   "source": [
    ">> +3 points"
   ]
  },
  {
   "cell_type": "markdown",
   "metadata": {},
   "source": [
    "### Question 10 (5 points)\n",
    "\n",
    "Write code to produce a differentially private contingency table for three variables: `Martial Status`, `Sex`, and `Education`. Also write code to display the percent error for each cell in your table.\n",
    "\n",
    "*Hint*: see the documentation of `crosstab` for an example of a 3-variable contingency table."
   ]
  },
  {
   "cell_type": "code",
   "execution_count": 17,
   "metadata": {},
   "outputs": [
    {
     "name": "stdout",
     "output_type": "stream",
     "text": [
      "Contingency Table with Original Counts\n"
     ]
    },
    {
     "data": {
      "text/html": [
       "<div>\n",
       "<style scoped>\n",
       "    .dataframe tbody tr th:only-of-type {\n",
       "        vertical-align: middle;\n",
       "    }\n",
       "\n",
       "    .dataframe tbody tr th {\n",
       "        vertical-align: top;\n",
       "    }\n",
       "\n",
       "    .dataframe thead th {\n",
       "        text-align: right;\n",
       "    }\n",
       "</style>\n",
       "<table border=\"1\" class=\"dataframe\">\n",
       "  <thead>\n",
       "    <tr style=\"text-align: right;\">\n",
       "      <th></th>\n",
       "      <th>Martial Status</th>\n",
       "      <th>Divorced</th>\n",
       "      <th>Married-AF-spouse</th>\n",
       "      <th>Married-civ-spouse</th>\n",
       "      <th>Married-spouse-absent</th>\n",
       "      <th>Never-married</th>\n",
       "      <th>Separated</th>\n",
       "      <th>Widowed</th>\n",
       "    </tr>\n",
       "    <tr>\n",
       "      <th>Education</th>\n",
       "      <th>Sex</th>\n",
       "      <th></th>\n",
       "      <th></th>\n",
       "      <th></th>\n",
       "      <th></th>\n",
       "      <th></th>\n",
       "      <th></th>\n",
       "      <th></th>\n",
       "    </tr>\n",
       "  </thead>\n",
       "  <tbody>\n",
       "    <tr>\n",
       "      <th rowspan=\"2\" valign=\"top\">10th</th>\n",
       "      <th>Female</th>\n",
       "      <td>67</td>\n",
       "      <td>0</td>\n",
       "      <td>33</td>\n",
       "      <td>7</td>\n",
       "      <td>128</td>\n",
       "      <td>31</td>\n",
       "      <td>29</td>\n",
       "    </tr>\n",
       "    <tr>\n",
       "      <th>Male</th>\n",
       "      <td>53</td>\n",
       "      <td>0</td>\n",
       "      <td>316</td>\n",
       "      <td>8</td>\n",
       "      <td>233</td>\n",
       "      <td>18</td>\n",
       "      <td>10</td>\n",
       "    </tr>\n",
       "    <tr>\n",
       "      <th rowspan=\"2\" valign=\"top\">11th</th>\n",
       "      <th>Female</th>\n",
       "      <td>79</td>\n",
       "      <td>0</td>\n",
       "      <td>35</td>\n",
       "      <td>7</td>\n",
       "      <td>248</td>\n",
       "      <td>28</td>\n",
       "      <td>35</td>\n",
       "    </tr>\n",
       "    <tr>\n",
       "      <th>Male</th>\n",
       "      <td>51</td>\n",
       "      <td>0</td>\n",
       "      <td>319</td>\n",
       "      <td>12</td>\n",
       "      <td>338</td>\n",
       "      <td>20</td>\n",
       "      <td>3</td>\n",
       "    </tr>\n",
       "    <tr>\n",
       "      <th rowspan=\"2\" valign=\"top\">12th</th>\n",
       "      <th>Female</th>\n",
       "      <td>17</td>\n",
       "      <td>0</td>\n",
       "      <td>20</td>\n",
       "      <td>4</td>\n",
       "      <td>84</td>\n",
       "      <td>12</td>\n",
       "      <td>7</td>\n",
       "    </tr>\n",
       "    <tr>\n",
       "      <th>Male</th>\n",
       "      <td>22</td>\n",
       "      <td>0</td>\n",
       "      <td>110</td>\n",
       "      <td>4</td>\n",
       "      <td>148</td>\n",
       "      <td>2</td>\n",
       "      <td>3</td>\n",
       "    </tr>\n",
       "    <tr>\n",
       "      <th rowspan=\"2\" valign=\"top\">1st-4th</th>\n",
       "      <th>Female</th>\n",
       "      <td>5</td>\n",
       "      <td>0</td>\n",
       "      <td>6</td>\n",
       "      <td>3</td>\n",
       "      <td>12</td>\n",
       "      <td>5</td>\n",
       "      <td>15</td>\n",
       "    </tr>\n",
       "    <tr>\n",
       "      <th>Male</th>\n",
       "      <td>5</td>\n",
       "      <td>0</td>\n",
       "      <td>75</td>\n",
       "      <td>9</td>\n",
       "      <td>27</td>\n",
       "      <td>4</td>\n",
       "      <td>2</td>\n",
       "    </tr>\n",
       "    <tr>\n",
       "      <th rowspan=\"2\" valign=\"top\">5th-6th</th>\n",
       "      <th>Female</th>\n",
       "      <td>10</td>\n",
       "      <td>0</td>\n",
       "      <td>18</td>\n",
       "      <td>5</td>\n",
       "      <td>29</td>\n",
       "      <td>11</td>\n",
       "      <td>11</td>\n",
       "    </tr>\n",
       "    <tr>\n",
       "      <th>Male</th>\n",
       "      <td>10</td>\n",
       "      <td>0</td>\n",
       "      <td>154</td>\n",
       "      <td>15</td>\n",
       "      <td>60</td>\n",
       "      <td>7</td>\n",
       "      <td>3</td>\n",
       "    </tr>\n",
       "    <tr>\n",
       "      <th rowspan=\"2\" valign=\"top\">7th-8th</th>\n",
       "      <th>Female</th>\n",
       "      <td>33</td>\n",
       "      <td>0</td>\n",
       "      <td>23</td>\n",
       "      <td>6</td>\n",
       "      <td>34</td>\n",
       "      <td>13</td>\n",
       "      <td>51</td>\n",
       "    </tr>\n",
       "    <tr>\n",
       "      <th>Male</th>\n",
       "      <td>40</td>\n",
       "      <td>0</td>\n",
       "      <td>336</td>\n",
       "      <td>8</td>\n",
       "      <td>79</td>\n",
       "      <td>10</td>\n",
       "      <td>13</td>\n",
       "    </tr>\n",
       "    <tr>\n",
       "      <th rowspan=\"2\" valign=\"top\">9th</th>\n",
       "      <th>Female</th>\n",
       "      <td>35</td>\n",
       "      <td>0</td>\n",
       "      <td>22</td>\n",
       "      <td>3</td>\n",
       "      <td>50</td>\n",
       "      <td>17</td>\n",
       "      <td>17</td>\n",
       "    </tr>\n",
       "    <tr>\n",
       "      <th>Male</th>\n",
       "      <td>29</td>\n",
       "      <td>0</td>\n",
       "      <td>208</td>\n",
       "      <td>6</td>\n",
       "      <td>105</td>\n",
       "      <td>16</td>\n",
       "      <td>6</td>\n",
       "    </tr>\n",
       "    <tr>\n",
       "      <th rowspan=\"2\" valign=\"top\">Assoc-acdm</th>\n",
       "      <th>Female</th>\n",
       "      <td>136</td>\n",
       "      <td>2</td>\n",
       "      <td>77</td>\n",
       "      <td>8</td>\n",
       "      <td>161</td>\n",
       "      <td>16</td>\n",
       "      <td>21</td>\n",
       "    </tr>\n",
       "    <tr>\n",
       "      <th>Male</th>\n",
       "      <td>67</td>\n",
       "      <td>0</td>\n",
       "      <td>383</td>\n",
       "      <td>4</td>\n",
       "      <td>176</td>\n",
       "      <td>14</td>\n",
       "      <td>2</td>\n",
       "    </tr>\n",
       "    <tr>\n",
       "      <th rowspan=\"2\" valign=\"top\">Assoc-voc</th>\n",
       "      <th>Female</th>\n",
       "      <td>153</td>\n",
       "      <td>0</td>\n",
       "      <td>93</td>\n",
       "      <td>8</td>\n",
       "      <td>178</td>\n",
       "      <td>29</td>\n",
       "      <td>39</td>\n",
       "    </tr>\n",
       "    <tr>\n",
       "      <th>Male</th>\n",
       "      <td>81</td>\n",
       "      <td>1</td>\n",
       "      <td>596</td>\n",
       "      <td>5</td>\n",
       "      <td>184</td>\n",
       "      <td>13</td>\n",
       "      <td>2</td>\n",
       "    </tr>\n",
       "    <tr>\n",
       "      <th rowspan=\"2\" valign=\"top\">Bachelors</th>\n",
       "      <th>Female</th>\n",
       "      <td>295</td>\n",
       "      <td>2</td>\n",
       "      <td>311</td>\n",
       "      <td>32</td>\n",
       "      <td>869</td>\n",
       "      <td>46</td>\n",
       "      <td>64</td>\n",
       "    </tr>\n",
       "    <tr>\n",
       "      <th>Male</th>\n",
       "      <td>251</td>\n",
       "      <td>2</td>\n",
       "      <td>2457</td>\n",
       "      <td>36</td>\n",
       "      <td>926</td>\n",
       "      <td>46</td>\n",
       "      <td>18</td>\n",
       "    </tr>\n",
       "    <tr>\n",
       "      <th rowspan=\"2\" valign=\"top\">Doctorate</th>\n",
       "      <th>Female</th>\n",
       "      <td>20</td>\n",
       "      <td>0</td>\n",
       "      <td>20</td>\n",
       "      <td>3</td>\n",
       "      <td>35</td>\n",
       "      <td>4</td>\n",
       "      <td>4</td>\n",
       "    </tr>\n",
       "    <tr>\n",
       "      <th>Male</th>\n",
       "      <td>13</td>\n",
       "      <td>0</td>\n",
       "      <td>266</td>\n",
       "      <td>4</td>\n",
       "      <td>38</td>\n",
       "      <td>3</td>\n",
       "      <td>3</td>\n",
       "    </tr>\n",
       "    <tr>\n",
       "      <th rowspan=\"2\" valign=\"top\">HS-grad</th>\n",
       "      <th>Female</th>\n",
       "      <td>937</td>\n",
       "      <td>8</td>\n",
       "      <td>533</td>\n",
       "      <td>63</td>\n",
       "      <td>1235</td>\n",
       "      <td>270</td>\n",
       "      <td>344</td>\n",
       "    </tr>\n",
       "    <tr>\n",
       "      <th>Male</th>\n",
       "      <td>676</td>\n",
       "      <td>5</td>\n",
       "      <td>4312</td>\n",
       "      <td>58</td>\n",
       "      <td>1854</td>\n",
       "      <td>136</td>\n",
       "      <td>70</td>\n",
       "    </tr>\n",
       "    <tr>\n",
       "      <th rowspan=\"2\" valign=\"top\">Masters</th>\n",
       "      <th>Female</th>\n",
       "      <td>153</td>\n",
       "      <td>0</td>\n",
       "      <td>113</td>\n",
       "      <td>9</td>\n",
       "      <td>216</td>\n",
       "      <td>14</td>\n",
       "      <td>31</td>\n",
       "    </tr>\n",
       "    <tr>\n",
       "      <th>Male</th>\n",
       "      <td>80</td>\n",
       "      <td>0</td>\n",
       "      <td>890</td>\n",
       "      <td>8</td>\n",
       "      <td>188</td>\n",
       "      <td>11</td>\n",
       "      <td>10</td>\n",
       "    </tr>\n",
       "    <tr>\n",
       "      <th rowspan=\"2\" valign=\"top\">Preschool</th>\n",
       "      <th>Female</th>\n",
       "      <td>0</td>\n",
       "      <td>0</td>\n",
       "      <td>3</td>\n",
       "      <td>0</td>\n",
       "      <td>10</td>\n",
       "      <td>1</td>\n",
       "      <td>2</td>\n",
       "    </tr>\n",
       "    <tr>\n",
       "      <th>Male</th>\n",
       "      <td>1</td>\n",
       "      <td>0</td>\n",
       "      <td>17</td>\n",
       "      <td>4</td>\n",
       "      <td>12</td>\n",
       "      <td>0</td>\n",
       "      <td>1</td>\n",
       "    </tr>\n",
       "    <tr>\n",
       "      <th rowspan=\"2\" valign=\"top\">Prof-school</th>\n",
       "      <th>Female</th>\n",
       "      <td>21</td>\n",
       "      <td>0</td>\n",
       "      <td>27</td>\n",
       "      <td>1</td>\n",
       "      <td>37</td>\n",
       "      <td>3</td>\n",
       "      <td>3</td>\n",
       "    </tr>\n",
       "    <tr>\n",
       "      <th>Male</th>\n",
       "      <td>34</td>\n",
       "      <td>0</td>\n",
       "      <td>385</td>\n",
       "      <td>2</td>\n",
       "      <td>56</td>\n",
       "      <td>5</td>\n",
       "      <td>2</td>\n",
       "    </tr>\n",
       "    <tr>\n",
       "      <th rowspan=\"2\" valign=\"top\">Some-college</th>\n",
       "      <th>Female</th>\n",
       "      <td>711</td>\n",
       "      <td>2</td>\n",
       "      <td>323</td>\n",
       "      <td>46</td>\n",
       "      <td>1441</td>\n",
       "      <td>131</td>\n",
       "      <td>152</td>\n",
       "    </tr>\n",
       "    <tr>\n",
       "      <th>Male</th>\n",
       "      <td>358</td>\n",
       "      <td>1</td>\n",
       "      <td>2495</td>\n",
       "      <td>30</td>\n",
       "      <td>1492</td>\n",
       "      <td>89</td>\n",
       "      <td>20</td>\n",
       "    </tr>\n",
       "  </tbody>\n",
       "</table>\n",
       "</div>"
      ],
      "text/plain": [
       "Martial Status       Divorced  Married-AF-spouse  Married-civ-spouse  \\\n",
       "Education    Sex                                                       \n",
       "10th         Female        67                  0                  33   \n",
       "             Male          53                  0                 316   \n",
       "11th         Female        79                  0                  35   \n",
       "             Male          51                  0                 319   \n",
       "12th         Female        17                  0                  20   \n",
       "             Male          22                  0                 110   \n",
       "1st-4th      Female         5                  0                   6   \n",
       "             Male           5                  0                  75   \n",
       "5th-6th      Female        10                  0                  18   \n",
       "             Male          10                  0                 154   \n",
       "7th-8th      Female        33                  0                  23   \n",
       "             Male          40                  0                 336   \n",
       "9th          Female        35                  0                  22   \n",
       "             Male          29                  0                 208   \n",
       "Assoc-acdm   Female       136                  2                  77   \n",
       "             Male          67                  0                 383   \n",
       "Assoc-voc    Female       153                  0                  93   \n",
       "             Male          81                  1                 596   \n",
       "Bachelors    Female       295                  2                 311   \n",
       "             Male         251                  2                2457   \n",
       "Doctorate    Female        20                  0                  20   \n",
       "             Male          13                  0                 266   \n",
       "HS-grad      Female       937                  8                 533   \n",
       "             Male         676                  5                4312   \n",
       "Masters      Female       153                  0                 113   \n",
       "             Male          80                  0                 890   \n",
       "Preschool    Female         0                  0                   3   \n",
       "             Male           1                  0                  17   \n",
       "Prof-school  Female        21                  0                  27   \n",
       "             Male          34                  0                 385   \n",
       "Some-college Female       711                  2                 323   \n",
       "             Male         358                  1                2495   \n",
       "\n",
       "Martial Status       Married-spouse-absent  Never-married  Separated  Widowed  \n",
       "Education    Sex                                                               \n",
       "10th         Female                      7            128         31       29  \n",
       "             Male                        8            233         18       10  \n",
       "11th         Female                      7            248         28       35  \n",
       "             Male                       12            338         20        3  \n",
       "12th         Female                      4             84         12        7  \n",
       "             Male                        4            148          2        3  \n",
       "1st-4th      Female                      3             12          5       15  \n",
       "             Male                        9             27          4        2  \n",
       "5th-6th      Female                      5             29         11       11  \n",
       "             Male                       15             60          7        3  \n",
       "7th-8th      Female                      6             34         13       51  \n",
       "             Male                        8             79         10       13  \n",
       "9th          Female                      3             50         17       17  \n",
       "             Male                        6            105         16        6  \n",
       "Assoc-acdm   Female                      8            161         16       21  \n",
       "             Male                        4            176         14        2  \n",
       "Assoc-voc    Female                      8            178         29       39  \n",
       "             Male                        5            184         13        2  \n",
       "Bachelors    Female                     32            869         46       64  \n",
       "             Male                       36            926         46       18  \n",
       "Doctorate    Female                      3             35          4        4  \n",
       "             Male                        4             38          3        3  \n",
       "HS-grad      Female                     63           1235        270      344  \n",
       "             Male                       58           1854        136       70  \n",
       "Masters      Female                      9            216         14       31  \n",
       "             Male                        8            188         11       10  \n",
       "Preschool    Female                      0             10          1        2  \n",
       "             Male                        4             12          0        1  \n",
       "Prof-school  Female                      1             37          3        3  \n",
       "             Male                        2             56          5        2  \n",
       "Some-college Female                     46           1441        131      152  \n",
       "             Male                       30           1492         89       20  "
      ]
     },
     "execution_count": 17,
     "metadata": {},
     "output_type": "execute_result"
    }
   ],
   "source": [
    "print(\"Contingency Table with Original Counts\")\n",
    "mse = pd.crosstab([adult_data['Education'], adult_data['Sex']], adult_data['Martial Status'])\n",
    "mse"
   ]
  },
  {
   "cell_type": "code",
   "execution_count": 18,
   "metadata": {},
   "outputs": [
    {
     "name": "stdout",
     "output_type": "stream",
     "text": [
      "Differentially Private Contingency Table\n"
     ]
    },
    {
     "data": {
      "text/html": [
       "<div>\n",
       "<style scoped>\n",
       "    .dataframe tbody tr th:only-of-type {\n",
       "        vertical-align: middle;\n",
       "    }\n",
       "\n",
       "    .dataframe tbody tr th {\n",
       "        vertical-align: top;\n",
       "    }\n",
       "\n",
       "    .dataframe thead th {\n",
       "        text-align: right;\n",
       "    }\n",
       "</style>\n",
       "<table border=\"1\" class=\"dataframe\">\n",
       "  <thead>\n",
       "    <tr style=\"text-align: right;\">\n",
       "      <th></th>\n",
       "      <th>Martial Status</th>\n",
       "      <th>Divorced</th>\n",
       "      <th>Married-AF-spouse</th>\n",
       "      <th>Married-civ-spouse</th>\n",
       "      <th>Married-spouse-absent</th>\n",
       "      <th>Never-married</th>\n",
       "      <th>Separated</th>\n",
       "      <th>Widowed</th>\n",
       "    </tr>\n",
       "    <tr>\n",
       "      <th>Education</th>\n",
       "      <th>Sex</th>\n",
       "      <th></th>\n",
       "      <th></th>\n",
       "      <th></th>\n",
       "      <th></th>\n",
       "      <th></th>\n",
       "      <th></th>\n",
       "      <th></th>\n",
       "    </tr>\n",
       "  </thead>\n",
       "  <tbody>\n",
       "    <tr>\n",
       "      <th rowspan=\"2\" valign=\"top\">10th</th>\n",
       "      <th>Female</th>\n",
       "      <td>57.116583</td>\n",
       "      <td>-2.986759</td>\n",
       "      <td>33.790826</td>\n",
       "      <td>66.982020</td>\n",
       "      <td>118.679558</td>\n",
       "      <td>41.483559</td>\n",
       "      <td>20.617204</td>\n",
       "    </tr>\n",
       "    <tr>\n",
       "      <th>Male</th>\n",
       "      <td>56.298964</td>\n",
       "      <td>10.623644</td>\n",
       "      <td>330.563704</td>\n",
       "      <td>-0.278705</td>\n",
       "      <td>230.340512</td>\n",
       "      <td>6.333551</td>\n",
       "      <td>4.212338</td>\n",
       "    </tr>\n",
       "    <tr>\n",
       "      <th rowspan=\"2\" valign=\"top\">11th</th>\n",
       "      <th>Female</th>\n",
       "      <td>91.614916</td>\n",
       "      <td>-24.212172</td>\n",
       "      <td>51.246259</td>\n",
       "      <td>5.014991</td>\n",
       "      <td>255.414920</td>\n",
       "      <td>39.587339</td>\n",
       "      <td>58.143892</td>\n",
       "    </tr>\n",
       "    <tr>\n",
       "      <th>Male</th>\n",
       "      <td>42.126354</td>\n",
       "      <td>-14.568048</td>\n",
       "      <td>332.955127</td>\n",
       "      <td>-14.117610</td>\n",
       "      <td>347.424977</td>\n",
       "      <td>14.278423</td>\n",
       "      <td>10.027040</td>\n",
       "    </tr>\n",
       "    <tr>\n",
       "      <th rowspan=\"2\" valign=\"top\">12th</th>\n",
       "      <th>Female</th>\n",
       "      <td>13.190989</td>\n",
       "      <td>-19.341485</td>\n",
       "      <td>29.308620</td>\n",
       "      <td>-0.844386</td>\n",
       "      <td>84.422000</td>\n",
       "      <td>16.199501</td>\n",
       "      <td>6.633259</td>\n",
       "    </tr>\n",
       "    <tr>\n",
       "      <th>Male</th>\n",
       "      <td>33.732417</td>\n",
       "      <td>1.268445</td>\n",
       "      <td>95.200201</td>\n",
       "      <td>5.456555</td>\n",
       "      <td>132.197145</td>\n",
       "      <td>2.156154</td>\n",
       "      <td>3.424518</td>\n",
       "    </tr>\n",
       "    <tr>\n",
       "      <th rowspan=\"2\" valign=\"top\">1st-4th</th>\n",
       "      <th>Female</th>\n",
       "      <td>14.175001</td>\n",
       "      <td>-21.576766</td>\n",
       "      <td>8.280943</td>\n",
       "      <td>-2.632742</td>\n",
       "      <td>6.128229</td>\n",
       "      <td>-2.499640</td>\n",
       "      <td>19.108995</td>\n",
       "    </tr>\n",
       "    <tr>\n",
       "      <th>Male</th>\n",
       "      <td>-21.968539</td>\n",
       "      <td>0.797336</td>\n",
       "      <td>78.098989</td>\n",
       "      <td>32.466813</td>\n",
       "      <td>8.559885</td>\n",
       "      <td>-26.069625</td>\n",
       "      <td>3.527256</td>\n",
       "    </tr>\n",
       "    <tr>\n",
       "      <th rowspan=\"2\" valign=\"top\">5th-6th</th>\n",
       "      <th>Female</th>\n",
       "      <td>18.196421</td>\n",
       "      <td>2.757114</td>\n",
       "      <td>12.849020</td>\n",
       "      <td>-3.246137</td>\n",
       "      <td>27.775460</td>\n",
       "      <td>-9.931064</td>\n",
       "      <td>12.899806</td>\n",
       "    </tr>\n",
       "    <tr>\n",
       "      <th>Male</th>\n",
       "      <td>34.315205</td>\n",
       "      <td>18.704238</td>\n",
       "      <td>148.894373</td>\n",
       "      <td>17.324570</td>\n",
       "      <td>70.154134</td>\n",
       "      <td>3.998367</td>\n",
       "      <td>5.313981</td>\n",
       "    </tr>\n",
       "    <tr>\n",
       "      <th rowspan=\"2\" valign=\"top\">7th-8th</th>\n",
       "      <th>Female</th>\n",
       "      <td>26.024864</td>\n",
       "      <td>-0.199034</td>\n",
       "      <td>12.020614</td>\n",
       "      <td>22.219066</td>\n",
       "      <td>-3.134255</td>\n",
       "      <td>6.778712</td>\n",
       "      <td>50.600159</td>\n",
       "    </tr>\n",
       "    <tr>\n",
       "      <th>Male</th>\n",
       "      <td>50.811247</td>\n",
       "      <td>3.737939</td>\n",
       "      <td>335.631664</td>\n",
       "      <td>-15.429806</td>\n",
       "      <td>117.426240</td>\n",
       "      <td>-11.319136</td>\n",
       "      <td>11.568675</td>\n",
       "    </tr>\n",
       "    <tr>\n",
       "      <th rowspan=\"2\" valign=\"top\">9th</th>\n",
       "      <th>Female</th>\n",
       "      <td>32.687823</td>\n",
       "      <td>10.199197</td>\n",
       "      <td>18.374303</td>\n",
       "      <td>1.850116</td>\n",
       "      <td>50.341748</td>\n",
       "      <td>14.095963</td>\n",
       "      <td>12.326839</td>\n",
       "    </tr>\n",
       "    <tr>\n",
       "      <th>Male</th>\n",
       "      <td>46.443758</td>\n",
       "      <td>2.561969</td>\n",
       "      <td>178.695753</td>\n",
       "      <td>24.036127</td>\n",
       "      <td>130.843487</td>\n",
       "      <td>6.303404</td>\n",
       "      <td>0.440961</td>\n",
       "    </tr>\n",
       "    <tr>\n",
       "      <th rowspan=\"2\" valign=\"top\">Assoc-acdm</th>\n",
       "      <th>Female</th>\n",
       "      <td>149.303708</td>\n",
       "      <td>10.160651</td>\n",
       "      <td>76.168326</td>\n",
       "      <td>4.776232</td>\n",
       "      <td>182.543584</td>\n",
       "      <td>12.118925</td>\n",
       "      <td>19.356243</td>\n",
       "    </tr>\n",
       "    <tr>\n",
       "      <th>Male</th>\n",
       "      <td>67.384094</td>\n",
       "      <td>5.199420</td>\n",
       "      <td>369.203589</td>\n",
       "      <td>6.982296</td>\n",
       "      <td>174.117305</td>\n",
       "      <td>19.879755</td>\n",
       "      <td>14.786858</td>\n",
       "    </tr>\n",
       "    <tr>\n",
       "      <th rowspan=\"2\" valign=\"top\">Assoc-voc</th>\n",
       "      <th>Female</th>\n",
       "      <td>154.023839</td>\n",
       "      <td>-1.670108</td>\n",
       "      <td>86.292736</td>\n",
       "      <td>-6.018106</td>\n",
       "      <td>189.108044</td>\n",
       "      <td>22.886775</td>\n",
       "      <td>32.214749</td>\n",
       "    </tr>\n",
       "    <tr>\n",
       "      <th>Male</th>\n",
       "      <td>79.025012</td>\n",
       "      <td>4.282814</td>\n",
       "      <td>600.026709</td>\n",
       "      <td>6.577327</td>\n",
       "      <td>194.538933</td>\n",
       "      <td>-10.263854</td>\n",
       "      <td>1.615160</td>\n",
       "    </tr>\n",
       "    <tr>\n",
       "      <th rowspan=\"2\" valign=\"top\">Bachelors</th>\n",
       "      <th>Female</th>\n",
       "      <td>299.381371</td>\n",
       "      <td>8.607443</td>\n",
       "      <td>316.292661</td>\n",
       "      <td>14.834736</td>\n",
       "      <td>879.186612</td>\n",
       "      <td>38.799127</td>\n",
       "      <td>65.623404</td>\n",
       "    </tr>\n",
       "    <tr>\n",
       "      <th>Male</th>\n",
       "      <td>249.123233</td>\n",
       "      <td>-18.079205</td>\n",
       "      <td>2449.443087</td>\n",
       "      <td>53.341788</td>\n",
       "      <td>928.345652</td>\n",
       "      <td>30.366975</td>\n",
       "      <td>11.694580</td>\n",
       "    </tr>\n",
       "    <tr>\n",
       "      <th rowspan=\"2\" valign=\"top\">Doctorate</th>\n",
       "      <th>Female</th>\n",
       "      <td>5.989171</td>\n",
       "      <td>-0.131407</td>\n",
       "      <td>26.360768</td>\n",
       "      <td>2.729880</td>\n",
       "      <td>54.339760</td>\n",
       "      <td>1.932891</td>\n",
       "      <td>8.750579</td>\n",
       "    </tr>\n",
       "    <tr>\n",
       "      <th>Male</th>\n",
       "      <td>10.038621</td>\n",
       "      <td>0.387637</td>\n",
       "      <td>269.140312</td>\n",
       "      <td>8.963625</td>\n",
       "      <td>33.535933</td>\n",
       "      <td>6.001722</td>\n",
       "      <td>-0.782350</td>\n",
       "    </tr>\n",
       "    <tr>\n",
       "      <th rowspan=\"2\" valign=\"top\">HS-grad</th>\n",
       "      <th>Female</th>\n",
       "      <td>938.787652</td>\n",
       "      <td>10.788108</td>\n",
       "      <td>529.522599</td>\n",
       "      <td>62.954443</td>\n",
       "      <td>1249.234780</td>\n",
       "      <td>261.921234</td>\n",
       "      <td>363.563316</td>\n",
       "    </tr>\n",
       "    <tr>\n",
       "      <th>Male</th>\n",
       "      <td>686.250426</td>\n",
       "      <td>11.638651</td>\n",
       "      <td>4299.018510</td>\n",
       "      <td>59.040178</td>\n",
       "      <td>1873.092897</td>\n",
       "      <td>144.413716</td>\n",
       "      <td>67.075880</td>\n",
       "    </tr>\n",
       "    <tr>\n",
       "      <th rowspan=\"2\" valign=\"top\">Masters</th>\n",
       "      <th>Female</th>\n",
       "      <td>136.065470</td>\n",
       "      <td>-14.041697</td>\n",
       "      <td>114.858021</td>\n",
       "      <td>22.890422</td>\n",
       "      <td>180.736675</td>\n",
       "      <td>1.842523</td>\n",
       "      <td>15.452603</td>\n",
       "    </tr>\n",
       "    <tr>\n",
       "      <th>Male</th>\n",
       "      <td>78.608176</td>\n",
       "      <td>-3.441010</td>\n",
       "      <td>897.670780</td>\n",
       "      <td>8.000760</td>\n",
       "      <td>195.796286</td>\n",
       "      <td>6.694029</td>\n",
       "      <td>65.403505</td>\n",
       "    </tr>\n",
       "    <tr>\n",
       "      <th rowspan=\"2\" valign=\"top\">Preschool</th>\n",
       "      <th>Female</th>\n",
       "      <td>38.131118</td>\n",
       "      <td>-9.455764</td>\n",
       "      <td>-3.794932</td>\n",
       "      <td>29.243168</td>\n",
       "      <td>10.509684</td>\n",
       "      <td>-6.932021</td>\n",
       "      <td>20.656948</td>\n",
       "    </tr>\n",
       "    <tr>\n",
       "      <th>Male</th>\n",
       "      <td>17.543987</td>\n",
       "      <td>-4.268864</td>\n",
       "      <td>20.113231</td>\n",
       "      <td>25.398087</td>\n",
       "      <td>13.097825</td>\n",
       "      <td>13.125076</td>\n",
       "      <td>-9.391688</td>\n",
       "    </tr>\n",
       "    <tr>\n",
       "      <th rowspan=\"2\" valign=\"top\">Prof-school</th>\n",
       "      <th>Female</th>\n",
       "      <td>23.864116</td>\n",
       "      <td>1.186162</td>\n",
       "      <td>27.222088</td>\n",
       "      <td>9.031424</td>\n",
       "      <td>36.402774</td>\n",
       "      <td>-11.332522</td>\n",
       "      <td>-3.819855</td>\n",
       "    </tr>\n",
       "    <tr>\n",
       "      <th>Male</th>\n",
       "      <td>48.974686</td>\n",
       "      <td>0.798564</td>\n",
       "      <td>382.421246</td>\n",
       "      <td>0.909019</td>\n",
       "      <td>52.038261</td>\n",
       "      <td>1.693171</td>\n",
       "      <td>13.583101</td>\n",
       "    </tr>\n",
       "    <tr>\n",
       "      <th rowspan=\"2\" valign=\"top\">Some-college</th>\n",
       "      <th>Female</th>\n",
       "      <td>746.953430</td>\n",
       "      <td>-18.438363</td>\n",
       "      <td>372.076370</td>\n",
       "      <td>54.305385</td>\n",
       "      <td>1463.513691</td>\n",
       "      <td>131.405197</td>\n",
       "      <td>140.304940</td>\n",
       "    </tr>\n",
       "    <tr>\n",
       "      <th>Male</th>\n",
       "      <td>353.435263</td>\n",
       "      <td>0.839861</td>\n",
       "      <td>2481.456474</td>\n",
       "      <td>15.806426</td>\n",
       "      <td>1490.772814</td>\n",
       "      <td>124.107169</td>\n",
       "      <td>24.289709</td>\n",
       "    </tr>\n",
       "  </tbody>\n",
       "</table>\n",
       "</div>"
      ],
      "text/plain": [
       "Martial Status         Divorced  Married-AF-spouse  Married-civ-spouse  \\\n",
       "Education    Sex                                                         \n",
       "10th         Female   57.116583          -2.986759           33.790826   \n",
       "             Male     56.298964          10.623644          330.563704   \n",
       "11th         Female   91.614916         -24.212172           51.246259   \n",
       "             Male     42.126354         -14.568048          332.955127   \n",
       "12th         Female   13.190989         -19.341485           29.308620   \n",
       "             Male     33.732417           1.268445           95.200201   \n",
       "1st-4th      Female   14.175001         -21.576766            8.280943   \n",
       "             Male    -21.968539           0.797336           78.098989   \n",
       "5th-6th      Female   18.196421           2.757114           12.849020   \n",
       "             Male     34.315205          18.704238          148.894373   \n",
       "7th-8th      Female   26.024864          -0.199034           12.020614   \n",
       "             Male     50.811247           3.737939          335.631664   \n",
       "9th          Female   32.687823          10.199197           18.374303   \n",
       "             Male     46.443758           2.561969          178.695753   \n",
       "Assoc-acdm   Female  149.303708          10.160651           76.168326   \n",
       "             Male     67.384094           5.199420          369.203589   \n",
       "Assoc-voc    Female  154.023839          -1.670108           86.292736   \n",
       "             Male     79.025012           4.282814          600.026709   \n",
       "Bachelors    Female  299.381371           8.607443          316.292661   \n",
       "             Male    249.123233         -18.079205         2449.443087   \n",
       "Doctorate    Female    5.989171          -0.131407           26.360768   \n",
       "             Male     10.038621           0.387637          269.140312   \n",
       "HS-grad      Female  938.787652          10.788108          529.522599   \n",
       "             Male    686.250426          11.638651         4299.018510   \n",
       "Masters      Female  136.065470         -14.041697          114.858021   \n",
       "             Male     78.608176          -3.441010          897.670780   \n",
       "Preschool    Female   38.131118          -9.455764           -3.794932   \n",
       "             Male     17.543987          -4.268864           20.113231   \n",
       "Prof-school  Female   23.864116           1.186162           27.222088   \n",
       "             Male     48.974686           0.798564          382.421246   \n",
       "Some-college Female  746.953430         -18.438363          372.076370   \n",
       "             Male    353.435263           0.839861         2481.456474   \n",
       "\n",
       "Martial Status       Married-spouse-absent  Never-married   Separated  \\\n",
       "Education    Sex                                                        \n",
       "10th         Female              66.982020     118.679558   41.483559   \n",
       "             Male                -0.278705     230.340512    6.333551   \n",
       "11th         Female               5.014991     255.414920   39.587339   \n",
       "             Male               -14.117610     347.424977   14.278423   \n",
       "12th         Female              -0.844386      84.422000   16.199501   \n",
       "             Male                 5.456555     132.197145    2.156154   \n",
       "1st-4th      Female              -2.632742       6.128229   -2.499640   \n",
       "             Male                32.466813       8.559885  -26.069625   \n",
       "5th-6th      Female              -3.246137      27.775460   -9.931064   \n",
       "             Male                17.324570      70.154134    3.998367   \n",
       "7th-8th      Female              22.219066      -3.134255    6.778712   \n",
       "             Male               -15.429806     117.426240  -11.319136   \n",
       "9th          Female               1.850116      50.341748   14.095963   \n",
       "             Male                24.036127     130.843487    6.303404   \n",
       "Assoc-acdm   Female               4.776232     182.543584   12.118925   \n",
       "             Male                 6.982296     174.117305   19.879755   \n",
       "Assoc-voc    Female              -6.018106     189.108044   22.886775   \n",
       "             Male                 6.577327     194.538933  -10.263854   \n",
       "Bachelors    Female              14.834736     879.186612   38.799127   \n",
       "             Male                53.341788     928.345652   30.366975   \n",
       "Doctorate    Female               2.729880      54.339760    1.932891   \n",
       "             Male                 8.963625      33.535933    6.001722   \n",
       "HS-grad      Female              62.954443    1249.234780  261.921234   \n",
       "             Male                59.040178    1873.092897  144.413716   \n",
       "Masters      Female              22.890422     180.736675    1.842523   \n",
       "             Male                 8.000760     195.796286    6.694029   \n",
       "Preschool    Female              29.243168      10.509684   -6.932021   \n",
       "             Male                25.398087      13.097825   13.125076   \n",
       "Prof-school  Female               9.031424      36.402774  -11.332522   \n",
       "             Male                 0.909019      52.038261    1.693171   \n",
       "Some-college Female              54.305385    1463.513691  131.405197   \n",
       "             Male                15.806426    1490.772814  124.107169   \n",
       "\n",
       "Martial Status          Widowed  \n",
       "Education    Sex                 \n",
       "10th         Female   20.617204  \n",
       "             Male      4.212338  \n",
       "11th         Female   58.143892  \n",
       "             Male     10.027040  \n",
       "12th         Female    6.633259  \n",
       "             Male      3.424518  \n",
       "1st-4th      Female   19.108995  \n",
       "             Male      3.527256  \n",
       "5th-6th      Female   12.899806  \n",
       "             Male      5.313981  \n",
       "7th-8th      Female   50.600159  \n",
       "             Male     11.568675  \n",
       "9th          Female   12.326839  \n",
       "             Male      0.440961  \n",
       "Assoc-acdm   Female   19.356243  \n",
       "             Male     14.786858  \n",
       "Assoc-voc    Female   32.214749  \n",
       "             Male      1.615160  \n",
       "Bachelors    Female   65.623404  \n",
       "             Male     11.694580  \n",
       "Doctorate    Female    8.750579  \n",
       "             Male     -0.782350  \n",
       "HS-grad      Female  363.563316  \n",
       "             Male     67.075880  \n",
       "Masters      Female   15.452603  \n",
       "             Male     65.403505  \n",
       "Preschool    Female   20.656948  \n",
       "             Male     -9.391688  \n",
       "Prof-school  Female   -3.819855  \n",
       "             Male     13.583101  \n",
       "Some-college Female  140.304940  \n",
       "             Male     24.289709  "
      ]
     },
     "execution_count": 18,
     "metadata": {},
     "output_type": "execute_result"
    }
   ],
   "source": [
    "mse_dp = mse.applymap(lambda x: laplace_mech(x, 1, 0.1))\n",
    "print(\"Differentially Private Contingency Table\")\n",
    "mse_dp"
   ]
  },
  {
   "cell_type": "code",
   "execution_count": 19,
   "metadata": {},
   "outputs": [
    {
     "name": "stdout",
     "output_type": "stream",
     "text": [
      "Refer to Question 8's answer for explanation of this chosen method (instead of just using applymap)\n",
      "...............................................................................................................................\n",
      "Percentage errors of DP results of the previous question\n",
      "-------------------------------------------------------------------------------------------------------------------------------\n",
      "                Marital Status  Divorced               Married-AF-spouse      Married-civ-spouse     Married-spouse-absent  Never-married          Separated              Widowed                \n",
      "Education       Sex             \n",
      "10th            Female          14.751                 inf                    2.3964                 856.88                 7.2815                 33.817                 28.906                 \n",
      "10th            Male            6.2244                 inf                    4.6087                 103.48                 1.1414                 64.813                 57.876                 \n",
      "11th            Female          15.968                 inf                    46.417                 28.357                 2.9898                 41.383                 66.125                 \n",
      "11th            Male            17.399                 inf                    4.3746                 217.64                 2.7884                 28.607                 234.23                 \n",
      "12th            Female          22.405                 inf                    46.543                 121.10                 0.5023                 34.995                 5.2391                 \n",
      "12th            Male            53.329                 inf                    13.454                 36.413                 10.677                 7.8077                 14.150                 \n",
      "1st-4th         Female          183.50                 inf                    38.015                 187.75                 48.931                 149.99                 27.393                 \n",
      "1st-4th         Male            539.37                 inf                    4.1319                 260.74                 68.296                 751.74                 76.362                 \n",
      "5th-6th         Female          81.964                 inf                    28.616                 164.92                 4.2225                 190.28                 17.270                 \n",
      "5th-6th         Male            243.15                 inf                    3.3153                 15.497                 16.923                 42.880                 77.132                 \n",
      "7th-8th         Female          21.136                 inf                    47.736                 270.31                 109.21                 47.856                 0.7840                 \n",
      "7th-8th         Male            27.028                 inf                    0.1096                 292.87                 48.640                 213.19                 11.010                 \n",
      "9th             Female          6.6062                 inf                    16.480                 38.329                 0.6834                 17.082                 27.489                 \n",
      "9th             Male            60.150                 inf                    14.088                 300.60                 24.612                 60.603                 92.650                 \n",
      "Assoc-acdm      Female          9.7821                 408.03                 1.0800                 40.297                 13.381                 24.256                 7.8274                 \n",
      "Assoc-acdm      Male            0.5732                 inf                    3.6021                 74.557                 1.0697                 41.998                 639.34                 \n",
      "Assoc-voc       Female          0.6691                 inf                    7.2121                 175.22                 6.2404                 21.080                 17.398                 \n",
      "Assoc-voc       Male            2.4382                 328.28                 0.6756                 31.546                 5.7276                 178.95                 19.241                 \n",
      "Bachelors       Female          1.4852                 330.37                 1.7018                 53.641                 1.1722                 15.654                 2.5365                 \n",
      "Bachelors       Male            0.7477                 1003.9                 0.3075                 48.171                 0.2533                 33.984                 35.030                 \n",
      "Doctorate       Female          70.054                 inf                    31.803                 9.0040                 55.256                 51.677                 118.76                 \n",
      "Doctorate       Male            22.779                 inf                    1.1805                 124.09                 11.747                 100.05                 126.07                 \n",
      "HS-grad         Female          0.1907                 34.851                 0.6524                 0.0723                 1.1526                 2.9921                 5.6870                 \n",
      "HS-grad         Male            1.5163                 132.77                 0.3010                 1.7934                 1.0298                 6.1865                 4.1773                 \n",
      "Masters         Female          11.068                 inf                    1.6442                 154.33                 16.325                 86.839                 50.152                 \n",
      "Masters         Male            1.7397                 inf                    0.8618                 0.0095                 4.1469                 39.145                 554.03                 \n",
      "Preschool       Female          inf                    inf                    226.49                 inf                    5.0968                 793.20                 932.84                 \n",
      "Preschool       Male            1654.3                 inf                    18.313                 534.95                 9.1485                 inf                    1039.1                 \n",
      "Prof-school     Female          13.638                 inf                    0.8225                 803.14                 1.6141                 477.75                 227.32                 \n",
      "Prof-school     Male            44.043                 inf                    0.6698                 54.549                 7.0745                 66.136                 579.15                 \n",
      "Some-college    Female          5.0567                 1021.9                 15.193                 18.055                 1.5623                 0.3093                 7.6941                 \n",
      "Some-college    Male            1.2750                 16.013                 0.5428                 47.311                 0.0822                 39.446                 21.448                 \n"
     ]
    },
    {
     "name": "stderr",
     "output_type": "stream",
     "text": [
      "/anaconda3/lib/python3.7/site-packages/ipykernel_launcher.py:19: RuntimeWarning: divide by zero encountered in double_scalars\n"
     ]
    }
   ],
   "source": [
    "print(\"Refer to Question 8's answer for explanation of this chosen method (instead of just using applymap)\")\n",
    "print(\"...............................................................................................................................\")\n",
    "print(\"Percentage errors of DP results of the previous question\")\n",
    "print(\"-------------------------------------------------------------------------------------------------------------------------------\")\n",
    "\n",
    "\n",
    "print(\"{:16}{:16}\".format('', 'Marital Status'), end='')\n",
    "for marital_statuses in mse.columns:\n",
    "    print(\"{:23}\".format(marital_statuses), end='')\n",
    "print()\n",
    "print(\"{:16}{:16}\".format('Education', 'Sex'), end='')\n",
    "print()\n",
    "for index, row in mse_dp.iterrows():\n",
    "    print(\"{:16}{:16}\".format(index[0], index[1]), end='')\n",
    "    for i, v in zip(row.index, row.values):\n",
    "        orig_value = mse.loc[index, i]\n",
    "        percentage_error = pct_error(orig_value, v)\n",
    "        print(\"{:23}\".format(str(percentage_error)[:6]), end='')\n",
    "    print()"
   ]
  },
  {
   "cell_type": "markdown",
   "metadata": {},
   "source": [
    "### Clearly we have some infinite rows due to the zero counts in the denominator. Releasing this data might be dangerous. Let us perturb the zero counts by adding a small value. "
   ]
  },
  {
   "cell_type": "code",
   "execution_count": 20,
   "metadata": {},
   "outputs": [
    {
     "name": "stdout",
     "output_type": "stream",
     "text": [
      "...............................................................................................................................\n",
      "Percentage errors of DP results of the previous question (Zero Correction Applied)\n",
      "-------------------------------------------------------------------------------------------------------------------------------\n",
      "                Marital Status  Divorced               Married-AF-spouse      Married-civ-spouse     Married-spouse-absent  Never-married          Separated              Widowed                \n",
      "Education       Sex             \n",
      "10th            Female          14.751                 547.43                 2.3964                 856.88                 7.2815                 33.817                 28.906                 \n",
      "10th            Male            6.2244                 11766.                 4.6087                 103.48                 1.1414                 64.813                 57.876                 \n",
      "11th            Female          15.968                 2582.8                 46.417                 28.357                 2.9898                 41.383                 66.125                 \n",
      "11th            Male            17.399                 3008.0                 4.3746                 217.64                 2.7884                 28.607                 234.23                 \n",
      "12th            Female          22.405                 4986.3                 46.543                 121.10                 0.5023                 34.995                 5.2391                 \n",
      "12th            Male            53.329                 216.11                 13.454                 36.413                 10.677                 7.8077                 14.150                 \n",
      "1st-4th         Female          183.50                 4618.3                 38.015                 187.75                 48.931                 149.99                 27.393                 \n",
      "1st-4th         Male            539.37                 6.1596                 4.1319                 260.74                 68.296                 751.74                 76.362                 \n",
      "5th-6th         Female          81.964                 2144.7                 28.616                 164.92                 4.2225                 190.28                 17.270                 \n",
      "5th-6th         Male            243.15                 1828.8                 3.3153                 15.497                 16.923                 42.880                 77.132                 \n",
      "7th-8th         Female          21.136                 248.66                 47.736                 270.31                 109.21                 47.856                 0.7840                 \n",
      "7th-8th         Male            27.028                 411.29                 0.1096                 292.87                 48.640                 213.19                 11.010                 \n",
      "9th             Female          6.6062                 8471.6                 16.480                 38.329                 0.6834                 17.082                 27.489                 \n",
      "9th             Male            60.150                 3969.6                 14.088                 300.60                 24.612                 60.603                 92.650                 \n",
      "Assoc-acdm      Female          9.7821                 408.03                 1.0800                 40.297                 13.381                 24.256                 7.8274                 \n",
      "Assoc-acdm      Male            0.5732                 500.95                 3.6021                 74.557                 1.0697                 41.998                 639.34                 \n",
      "Assoc-voc       Female          0.6691                 306.36                 7.2121                 175.22                 6.2404                 21.080                 17.398                 \n",
      "Assoc-voc       Male            2.4382                 328.28                 0.6756                 31.546                 5.7276                 178.95                 19.241                 \n",
      "Bachelors       Female          1.4852                 330.37                 1.7018                 53.641                 1.1722                 15.654                 2.5365                 \n",
      "Bachelors       Male            0.7477                 1003.9                 0.3075                 48.171                 0.2533                 33.984                 35.030                 \n",
      "Doctorate       Female          70.054                 173.85                 31.803                 9.0040                 55.256                 51.677                 118.76                 \n",
      "Doctorate       Male            22.779                 31.930                 1.1805                 124.09                 11.747                 100.05                 126.07                 \n",
      "HS-grad         Female          0.1907                 34.851                 0.6524                 0.0723                 1.1526                 2.9921                 5.6870                 \n",
      "HS-grad         Male            1.5163                 132.77                 0.3010                 1.7934                 1.0298                 6.1865                 4.1773                 \n",
      "Masters         Female          11.068                 3472.0                 1.6442                 154.33                 16.325                 86.839                 50.152                 \n",
      "Masters         Male            1.7397                 2914.3                 0.8618                 0.0095                 4.1469                 39.145                 554.03                 \n",
      "Preschool       Female          6829.0                 9207.5                 226.49                 3396.0                 5.0968                 793.20                 932.84                 \n",
      "Preschool       Male            1654.3                 1460.7                 18.313                 534.95                 9.1485                 1696.3                 1039.1                 \n",
      "Prof-school     Female          13.638                 22.556                 0.8225                 803.14                 1.6141                 477.75                 227.32                 \n",
      "Prof-school     Male            44.043                 90.759                 0.6698                 54.549                 7.0745                 66.136                 579.15                 \n",
      "Some-college    Female          5.0567                 1021.9                 15.193                 18.055                 1.5623                 0.3093                 7.6941                 \n",
      "Some-college    Male            1.2750                 16.013                 0.5428                 47.311                 0.0822                 39.446                 21.448                 \n"
     ]
    }
   ],
   "source": [
    "print(\"...............................................................................................................................\")\n",
    "print(\"Percentage errors of DP results of the previous question (Zero Correction Applied)\")\n",
    "print(\"-------------------------------------------------------------------------------------------------------------------------------\")\n",
    "\n",
    "import random\n",
    "print(\"{:16}{:16}\".format('', 'Marital Status'), end='')\n",
    "for marital_statuses in mse.columns:\n",
    "    print(\"{:23}\".format(marital_statuses), end='')\n",
    "print()\n",
    "print(\"{:16}{:16}\".format('Education', 'Sex'), end='')\n",
    "print()\n",
    "for index, row in mse_dp.iterrows():\n",
    "    print(\"{:16}{:16}\".format(index[0], index[1]), end='')\n",
    "    for i, v in zip(row.index, row.values):\n",
    "        orig_value = mse.loc[index, i]\n",
    "        if orig_value == 0:\n",
    "            orig_value += random.random()\n",
    "        percentage_error = pct_error(orig_value, v)\n",
    "        print(\"{:23}\".format(str(percentage_error)[:6]), end='')\n",
    "    print()"
   ]
  },
  {
   "cell_type": "markdown",
   "metadata": {},
   "source": [
    ">> +5 points -- great work"
   ]
  },
  {
   "cell_type": "markdown",
   "metadata": {},
   "source": [
    "### Question 11 (5 points)\n",
    "\n",
    "In 5-10 sentences, answer the following:\n",
    "- What is the privacy cost of your differentially private contingency table in the last question? Why?\n",
    "- The contingency table in the last question contains 3 variables, compared to 2 in the table from earlier. Is the privacy cost for the table in the last question different from the privacy cost in Question 19? Why or why not?\n",
    "- In general, what is the effect of the number of variables in a single contingency on **privacy cost**? Why is this the case?\n",
    "- In general, what is the effect of the number of variables in a single contingency on **accuracy**? Why is this the case?"
   ]
  },
  {
   "cell_type": "markdown",
   "metadata": {},
   "source": [
    "#### In this cell (in markdown or a comment) write your reponses.\n",
    "* Privacy cost is Epsilon (0.1). This is parallel composition: chunks are mutually exclusive.\n",
    "* Same Privacy Cost as the previous query. This is again due to the parallel composition and mutual exclusiveness. \n",
    "* Number of variables is agnostic to privacy cost. If the variables are chosen such that the combination of variables don't overlap then each individual can belong to only one combination. Hence, this results in parallel composition, yielding same privacy cost.\n",
    "* As the number of variables increases, the parallel chunks get smaller. This leads to high noise and decreases the accuracy. Smaller chunks mean weaker signals, hence a small amount of noise can perturn them."
   ]
  },
  {
   "cell_type": "markdown",
   "metadata": {},
   "source": [
    ">> +5 points"
   ]
  },
  {
   "cell_type": "markdown",
   "metadata": {},
   "source": [
    "### Question 12 (2 points)\n",
    "\n",
    "Define a function `z_clip` that clips elements of its input to lie below `b`. You may assume that no input will be less than 0."
   ]
  },
  {
   "cell_type": "code",
   "execution_count": 21,
   "metadata": {},
   "outputs": [],
   "source": [
    "def z_clip(xs, b):\n",
    "    return np.clip(xs, 0, b)"
   ]
  },
  {
   "cell_type": "markdown",
   "metadata": {},
   "source": [
    ">> +2 points"
   ]
  },
  {
   "cell_type": "markdown",
   "metadata": {},
   "source": [
    "### Question 13 (3 points)\n",
    "\n",
    "Write code to (1) clip the values of the `Capital Gain` column of the dataset, and (2) compute the average of the clipped values. Run your code for various values of the clipping parameter `b`."
   ]
  },
  {
   "cell_type": "code",
   "execution_count": 22,
   "metadata": {},
   "outputs": [
    {
     "name": "stdout",
     "output_type": "stream",
     "text": [
      "Stats of Capital Gain\n",
      "count    32561.000000\n",
      "mean      1077.648844\n",
      "std       7385.292085\n",
      "min          0.000000\n",
      "25%          0.000000\n",
      "50%          0.000000\n",
      "75%          0.000000\n",
      "max      99999.000000\n",
      "Name: Capital Gain, dtype: float64\n",
      "\n",
      "******************************\n",
      "Average before clipping: 1077.65\n",
      "******************************\n",
      "Start clipping from 0 and continue till 120,000 in steps of 5,000\n",
      "-----------------------------------------------------------------\n",
      "With b = 0, average after clipping : 0.00\n",
      "With b = 5,000, average after clipping : 352.41\n",
      "With b = 10,000, average after clipping : 526.56\n",
      "With b = 15,000, average after clipping : 633.36\n",
      "With b = 20,000, average after clipping : 672.84\n",
      "With b = 25,000, average after clipping : 705.97\n",
      "With b = 30,000, average after clipping : 734.51\n",
      "With b = 35,000, average after clipping : 759.86\n",
      "With b = 40,000, average after clipping : 784.58\n",
      "With b = 45,000, average after clipping : 809.08\n",
      "With b = 50,000, average after clipping : 833.50\n",
      "With b = 55,000, average after clipping : 857.91\n",
      "With b = 60,000, average after clipping : 882.33\n",
      "With b = 65,000, average after clipping : 906.74\n",
      "With b = 70,000, average after clipping : 931.16\n",
      "With b = 75,000, average after clipping : 955.58\n",
      "With b = 80,000, average after clipping : 979.99\n",
      "With b = 85,000, average after clipping : 1004.41\n",
      "With b = 90,000, average after clipping : 1028.82\n",
      "With b = 95,000, average after clipping : 1053.24\n",
      "With b = 100,000, average after clipping : 1077.65\n",
      "With b = 105,000, average after clipping : 1077.65\n",
      "With b = 110,000, average after clipping : 1077.65\n",
      "With b = 115,000, average after clipping : 1077.65\n",
      "With b = 120,000, average after clipping : 1077.65\n"
     ]
    }
   ],
   "source": [
    "cg = adult_data['Capital Gain']\n",
    "print('Stats of Capital Gain')\n",
    "print(cg.describe())\n",
    "print()\n",
    "print('******************************')\n",
    "print(\"Average before clipping: {:.2f}\".format(cg.mean()))\n",
    "print('******************************')\n",
    "print(\"Start clipping from 0 and continue till 120,000 in steps of 5,000\")\n",
    "print(\"-----------------------------------------------------------------\")\n",
    "for i in range(0, 125000, 5000):\n",
    "    cg_clip = cg.apply(lambda x: z_clip(x, i))\n",
    "    print(\"With b = {:,}, average after clipping : {:.2f}\".format(i, cg_clip.mean()))"
   ]
  },
  {
   "cell_type": "markdown",
   "metadata": {},
   "source": [
    ">> +3 points"
   ]
  },
  {
   "cell_type": "markdown",
   "metadata": {},
   "source": [
    "### Question 14 (5 points)\n",
    "\n",
    "Write code to return the differentially private average of `Capital Gain` parameterized by the clipping parameter `b`. Run your code for various values of `b` and use `pct_error` to determine the error introduced for each value of `b`. \n",
    "\n",
    "*Note*: Your output should look something like the triple ('b', 'answer', 'pct_error')."
   ]
  },
  {
   "cell_type": "markdown",
   "metadata": {},
   "source": [
    "* Average Query is composed of a sum and count (divide) query. \n",
    "* To arrive at the the differentially private version of the requested clipped averages, I will first calculate the sum (with clipping in mind). Then find the differentially private version of this sum. This sum query will have the sensitivity of (Upper Bound - Lower Bound). In my case it is (Clipping Value at each step - Zero). \n",
    "* Then I will divide the result by a differentially private version of the count (this has sensitivity of 1). \n",
    "* Since the Sensitivity is large, we see errors. Errors are minimized near the real mean. "
   ]
  },
  {
   "cell_type": "code",
   "execution_count": 23,
   "metadata": {},
   "outputs": [
    {
     "name": "stdout",
     "output_type": "stream",
     "text": [
      "Real average is: 1,077.65\n",
      "---------------------------------------------\n",
      "b = 0, DP Average = 0.00 PCt Error = 100.00%\n",
      "b = 5,000, DP Average = 353.73 PCt Error = 67.18%\n",
      "b = 10,000, DP Average = 526.20 PCt Error = 51.17%\n",
      "b = 15,000, DP Average = 632.48 PCt Error = 41.31%\n",
      "b = 20,000, DP Average = 668.65 PCt Error = 37.95%\n",
      "b = 25,000, DP Average = 703.65 PCt Error = 34.71%\n",
      "b = 30,000, DP Average = 735.04 PCt Error = 31.79%\n",
      "b = 35,000, DP Average = 774.81 PCt Error = 28.10%\n",
      "b = 40,000, DP Average = 756.08 PCt Error = 29.84%\n",
      "b = 45,000, DP Average = 764.66 PCt Error = 29.04%\n",
      "b = 50,000, DP Average = 834.74 PCt Error = 22.54%\n",
      "b = 55,000, DP Average = 825.87 PCt Error = 23.36%\n",
      "b = 60,000, DP Average = 879.34 PCt Error = 18.40%\n",
      "b = 65,000, DP Average = 940.36 PCt Error = 12.74%\n",
      "b = 70,000, DP Average = 979.26 PCt Error = 9.13%\n",
      "b = 75,000, DP Average = 904.91 PCt Error = 16.03%\n",
      "b = 80,000, DP Average = 1,010.18 PCt Error = 6.26%\n",
      "b = 85,000, DP Average = 953.88 PCt Error = 11.49%\n",
      "b = 90,000, DP Average = 1,027.43 PCt Error = 4.66%\n",
      "b = 95,000, DP Average = 1,058.91 PCt Error = 1.74%\n",
      "b = 100,000, DP Average = 1,077.53 PCt Error = 0.01%\n",
      "b = 105,000, DP Average = 1,076.44 PCt Error = 0.11%\n",
      "b = 110,000, DP Average = 1,033.00 PCt Error = 4.14%\n",
      "b = 115,000, DP Average = 1,088.94 PCt Error = 1.05%\n",
      "b = 120,000, DP Average = 1,144.81 PCt Error = 6.23%\n"
     ]
    }
   ],
   "source": [
    "real_average = cg.mean()\n",
    "print(\"Real average is: {:,.2f}\".format(real_average))\n",
    "print(\"---------------------------------------------\")\n",
    "# get the number of records\n",
    "cg_num = len(cg)\n",
    "\n",
    "for i in range(0, 125000, 5000):\n",
    "    # get the sum\n",
    "    cg_sum = (cg.apply(lambda x: z_clip(x, i))).sum()\n",
    "    # get the DP sum\n",
    "    cg_sum_dp = laplace_mech(cg_sum, i, 0.1)\n",
    "    # get the DP number of records\n",
    "    cg_num_dp = laplace_mech(cg_num, 1, 0.1)\n",
    "    # calculate the DP average\n",
    "    cg_avg_dp = cg_sum_dp / cg_num_dp\n",
    "    # calculate the percentage error\n",
    "    cg_clip_dp_error = pct_error(real_average, cg_avg_dp)\n",
    "    print(\"b = {:,}, DP Average = {:,.2f} PCt Error = {:.2f}%\".format(i, cg_avg_dp, cg_clip_dp_error ))"
   ]
  },
  {
   "cell_type": "markdown",
   "metadata": {},
   "source": [
    ">> +5 points"
   ]
  },
  {
   "cell_type": "markdown",
   "metadata": {},
   "source": [
    "### Question 15 (5 points)\n",
    "\n",
    "In 5-10 sentences, answer the following:\n",
    "\n",
    "- In Question 13, at approximately what value of the clipping parameter `b` does the clipped average approach the original (un-clipped) average?\n",
    "- What is the sensitivity of the clipped average at this value of `b`, and why?\n",
    "- In Question 14, at approximately what value of the clipping parameter `b` is the error minimized?\n",
    "- Which seems to be more important for accuracy - the value of `b` or the scale of the noise added? Why?\n",
    "- Do you think the answer to the previous point will be true for every dataset? Why or why not?"
   ]
  },
  {
   "cell_type": "markdown",
   "metadata": {},
   "source": [
    "* The clipping parameter b starts getting closest to the real average at a value of around 100,000. Post 90,000 it starts to get closer. \n",
    "* The sensitivity of the clipped average at the value of 100,000 is (100,000 - 0) + 1 = 100,001. This is because of the sequential composition of average query (Sum + Count (divide)). Sum query sensitivity is upper bound minus the lower bound. Count query is one. \n",
    "* I achieved less than 1 percent errors at 90,000 and 115,000. Since the sensitivity is large this can vary from different runs. Generally the minimum error is seen somewhere around the real mean. And also after crossing the mean. \n",
    "* When I changed the Epsilon (from 0.1 to 1), the noise did not increase drastically. It did increase little bit. But yes, the value of clipping parameter controls the sensitivity of the query. As sensitivity increases, the spread of the laplace distribution increases resulting in more noise. Having said this, theoretically, sensitivity and epsilon contribute equally towards the range of the laplace mechanism. Hence they should contribute equally towards the noise. But practicaly, epsilon might take lesser value when compared to sensitivity in the case of sum queries. \n",
    "* It depends on the range of values. Say, if the bounds are confined to a shorter range then the sensitivity decreases resulting in the requirement of addition of less noise. Less noise means more utility. "
   ]
  },
  {
   "cell_type": "markdown",
   "metadata": {},
   "source": [
    ">> +5 points"
   ]
  },
  {
   "cell_type": "markdown",
   "metadata": {},
   "source": [
    "### Question 16 (10 points)\n",
    "\n",
    "Write a function `auto_avg` that returns the differentially private average of an array of values `xs`. Your function should **automatically** determine the clipping parameter `b`, and should enforce differential privacy for a **total** privacy cost of `epsilon`."
   ]
  },
  {
   "cell_type": "code",
   "execution_count": 24,
   "metadata": {},
   "outputs": [],
   "source": [
    "def auto_avg(xs, epsilon):\n",
    "    '''\n",
    "    This function returns a differentially private version of the average of the numbers passed.\n",
    "    xs: Numerical Array (Not a pandas dataframe)\n",
    "    epsilon: Total privacy budget (>0)\n",
    "    '''\n",
    "    # Privacy Budget of an average query is the sum of the privacy budgets of the sum and count queries. \n",
    "    # Since the sensitivity of the count query is 1, it need not have a greater epsilon (when compared to sum query)\n",
    "    # Hence, I allocate 0.01E (E stands for Epsilon) and the remaining 0.99E for the summation query\n",
    "    # Global sensitivity of an unbounded summation query is indefinite. To bring it to manageable levels, we need to clip the values.\n",
    "    # Clipping has to be done both at the lower and higher levels. To find the most suitable clipping level, \n",
    "    # we need to compute the sum (using DP) at various points. \n",
    "    # Since clipping values are directly related to accuracy, it is important to determine the right amount of lower and upper bounds.\n",
    "    # Here, I assume that the values do not go below zero. Hence, I fix the lower bound as zero. \n",
    "    \n",
    "    if epsilon <= 0:\n",
    "        print(\"Invalid Privacy Budget. \")\n",
    "        return\n",
    "    \n",
    "    # Allocate the Budget\n",
    "    count_budget = 0.01 * epsilon\n",
    "    bound_budget = epsilon - count_budget\n",
    "    \n",
    "    #print(\"Count Budget: \", count_budget)\n",
    "    #print(\"Bound Budget: \", bound_budget)\n",
    "    \n",
    "    # get the DP number of records\n",
    "    n_records = laplace_mech(len(xs), 1, count_budget)\n",
    "    #print(\"Number of DP records: \", n_records)\n",
    "    \n",
    "    # Initialize the Epsilon\n",
    "    running_epsilon = bound_budget * 0.01\n",
    "    # Initial value of the clip\n",
    "    i = 1\n",
    "    sums = []\n",
    "    clips = []\n",
    "    # Till we run out of the budget\n",
    "    while(bound_budget > 0):\n",
    "        # get the DP sum\n",
    "        dp_sum = laplace_mech(np.clip(xs, 0, i).sum(), i, running_epsilon)\n",
    "        sums.append(dp_sum)\n",
    "        clips.append(i)\n",
    "        # decrease the budget\n",
    "        bound_budget -= running_epsilon\n",
    "        # we know that as sensitivity increases, error also increases, to compensate that,\n",
    "        # we increase the epsilon so that we get little less noisier results\n",
    "        running_epsilon *= 1.1\n",
    "        # increase the clip interval non-linearly for faster convergence\n",
    "        i = i * 2\n",
    " \n",
    "    # analyze the sums and return the most probable average: compare the successive differences\n",
    "    diffs = []\n",
    "    for index, each_sum in enumerate(sums[:-1]):\n",
    "        diffs.append(abs(each_sum - sums[index + 1]))\n",
    "    \n",
    "    # tolerance is applied to handle the differences (Perfect zero difference is rare)\n",
    "    tolerance = np.mean(diffs) / n_records\n",
    "    probable_indexes = []\n",
    "    min_diff_index = 0\n",
    "    min_diff = 0\n",
    "    # get all those indexes whose successive sum differences are within tolerance limits\n",
    "    for index, each_diff in enumerate(diffs):\n",
    "        if each_diff <= tolerance:\n",
    "            probable_indexes.append(index + 1)\n",
    "        if each_diff < min_diff:\n",
    "            min_diff = each_diff\n",
    "            min_diff_index = index + 1\n",
    "    # average out the different upper bound sums to get a smooth value\n",
    "    return_average = 0\n",
    "    clip_param = 0\n",
    "    if len(probable_indexes) > 0:\n",
    "        for each_probable_index in probable_indexes:\n",
    "            return_average += sums[each_probable_index]\n",
    "            clip_param += clips[each_probable_index]\n",
    "        return_average /= len(probable_indexes)\n",
    "        clip_param /= len(probable_indexes)\n",
    "    else:\n",
    "        #print(\"Unsuccessful in converging: so returning minimum value\")\n",
    "        return_average = sums[min_diff_index]\n",
    "        clip_param = clips[min_diff_index]\n",
    "    \n",
    "    return return_average / n_records, clip_param"
   ]
  },
  {
   "cell_type": "markdown",
   "metadata": {},
   "source": [
    "### Question 17 (8 points)\n",
    "\n",
    "In 5-10 sentences, answer the following:\n",
    "- Summarize (1-2 sentences only) your approach in `auto_avg`.\n",
    "- Briefly argue that your implementation has privacy cost of `epsilon`.\n",
    "- How close is your function able to get to the \"best\" result you got in Question 14? What accounts for the difference?\n",
    "- Will your approach work well for **all** datasets? If not, describe a dataset for which it is likely to return very inaccurate results."
   ]
  },
  {
   "cell_type": "markdown",
   "metadata": {},
   "source": [
    "* Approach is explained in the comments of the method. Short answer: Split the budget into count and sum. Use the count budget to arrive at different values of sums at different clipping points. During this process, dynamically adopt the Epsilon for changing sensitivity values. As Sensitivity increases, increase the epsilon as well. Also, sample at non-linear intervals. \n",
    "* The implementation is bound to Epsilon. It only runs till Epsilon is exhausted. Please check code for more visibility.\n",
    "* This question is answered in the next cell\n",
    "* This answer is provided after the previous question's answer."
   ]
  },
  {
   "cell_type": "markdown",
   "metadata": {},
   "source": [
    "#### How close is the function to the best result achieved in Q14? \n",
    "* Capital Gain Column is one of the most lopsided attributes in the dataset. It's min = 0, median = 0, 75th percentile = 0, max = 99,999, mean = 1077. My method converged towards the actual values provided enough privacy budget. \n",
    "* I tested the variation of Clip and Mean against different budgets and the plots are provided in the below cell. \n",
    "* I also tested my method on a set of consecutive integers. There it converges faster and requires less privacy budget. \n",
    "* In question 14, we were able to eyeball the values and fixed b easily. Here a generic method should be designed to make it work for any data. I think knowing the type of column beforehand helps in reducing this problem."
   ]
  },
  {
   "cell_type": "code",
   "execution_count": 25,
   "metadata": {},
   "outputs": [
    {
     "name": "stderr",
     "output_type": "stream",
     "text": [
      "100%|██████████| 10/10 [00:42<00:00,  4.27s/it]\n"
     ]
    },
    {
     "data": {
      "image/png": "[encoded data removed]",
      "text/plain": [
       "<Figure size 1152x864 with 2 Axes>"
      ]
     },
     "metadata": {
      "needs_background": "light"
     },
     "output_type": "display_data"
    }
   ],
   "source": [
    "# running the custom function 100 times to arrive at a clipping param for the data from Question 14\n",
    "custom_clips = []\n",
    "i_s = []\n",
    "mean_s = []\n",
    "data = adult_data['Capital Gain'].tolist()\n",
    "from tqdm import tqdm\n",
    "for i in tqdm(range(1, 10000, 1000)):\n",
    "    i_s.append(i)\n",
    "    temp_sum = 0\n",
    "    temp_mean = 0\n",
    "    for j in range(100):\n",
    "        m, p = auto_avg(data, i)\n",
    "        temp_sum += p\n",
    "        temp_mean += m\n",
    "    custom_clips.append(temp_sum/100)\n",
    "    mean_s.append(temp_mean/100)\n",
    "fig = plt.figure()\n",
    "fig.set_size_inches(16, 12)\n",
    "ax = fig.add_subplot(4,3,1)\n",
    "ax.plot(i_s, custom_clips)\n",
    "ax.set_title(\"Variation of Clip against Budget\")\n",
    "ax = fig.add_subplot(4,3,2)\n",
    "ax.plot(i_s, mean_s)\n",
    "ax.set_title(\"Variation of Average against Budget\")\n",
    "\n",
    "plt.tight_layout()\n",
    "plt.show()\n"
   ]
  },
  {
   "cell_type": "code",
   "execution_count": 26,
   "metadata": {},
   "outputs": [
    {
     "name": "stderr",
     "output_type": "stream",
     "text": [
      "100%|██████████| 100/100 [00:17<00:00,  5.72it/s]\n"
     ]
    },
    {
     "data": {
      "image/png": "[encoded data removed]",
      "text/plain": [
       "<Figure size 1152x864 with 2 Axes>"
      ]
     },
     "metadata": {
      "needs_background": "light"
     },
     "output_type": "display_data"
    }
   ],
   "source": [
    "# running the custom function 100 times to arrive at a clipping param for the sample data\n",
    "custom_clips = []\n",
    "i_s = []\n",
    "mean_s = []\n",
    "\n",
    "array_test = []\n",
    "for  i  in range(1000):\n",
    "    array_test.append(i)\n",
    "from tqdm import tqdm\n",
    "for i in tqdm(range(1, 10000, 100)):\n",
    "    i_s.append(i)\n",
    "    temp_sum = 0\n",
    "    temp_mean = 0\n",
    "    for j in range(100):\n",
    "        m, p = auto_avg(array_test, i)\n",
    "        temp_sum += p\n",
    "        temp_mean += m\n",
    "    custom_clips.append(temp_sum/100)\n",
    "    mean_s.append(temp_mean/100)\n",
    "fig = plt.figure()\n",
    "fig.set_size_inches(16, 12)\n",
    "ax = fig.add_subplot(4,3,1)\n",
    "ax.plot(i_s, custom_clips)\n",
    "ax.set_title(\"Variation of Clip against Budget\")\n",
    "ax = fig.add_subplot(4,3,2)\n",
    "ax.plot(i_s, mean_s)\n",
    "ax.set_title(\"Variation of Average against Budget\")\n",
    "\n",
    "plt.tight_layout()\n",
    "plt.show()"
   ]
  },
  {
   "cell_type": "markdown",
   "metadata": {},
   "source": [
    "#### Will your approach work well for all datasets? If not, describe a dataset for which it is likely to return very inaccurate results.\n",
    "\n",
    "* This approach doesn't work well for datasets with high skewness. For example: the capital gain data where is majority of the values are zero and the remaining values are very high. \n",
    "* This also does not work with negative data (assumption).\n",
    "* This works well with random data and uniform data."
   ]
  },
  {
   "cell_type": "markdown",
   "metadata": {},
   "source": [
    ">> +8 points"
   ]
  },
  {
   "cell_type": "markdown",
   "metadata": {},
   "source": [
    "### Question 18 (3 points)\n",
    "\n",
    "Consider the code below, which graphs the total privacy cost of an averaging attack under (1) sequential composition and (2) advanced composition, for values of `k` between 1 and 200."
   ]
  },
  {
   "cell_type": "code",
   "execution_count": 28,
   "metadata": {},
   "outputs": [
    {
     "data": {
      "text/plain": [
       "<matplotlib.legend.Legend at 0x1237d2f28>"
      ]
     },
     "execution_count": 28,
     "metadata": {},
     "output_type": "execute_result"
    },
    {
     "data": {
      "image/png": "[encoded data removed]",
      "text/plain": [
       "<Figure size 432x288 with 1 Axes>"
      ]
     },
     "metadata": {
      "needs_background": "light"
     },
     "output_type": "display_data"
    }
   ],
   "source": [
    "epsilon = .1\n",
    "delta_p = 1e-5\n",
    "\n",
    "def query():\n",
    "    return len(adult_data[adult_data['Martial Status'] == 'Divorced'])\n",
    "\n",
    "def avg_attack(k):\n",
    "    return np.mean([laplace_mech(query(), 1, epsilon) for i in range(k)])\n",
    "    \n",
    "xs = range(1, 200)\n",
    "privacy_cost_sequential = [k * epsilon for k in xs]\n",
    "privacy_cost_advanced = [2 * epsilon * np.sqrt(2 * k * np.log(1/delta_p)) for k in xs]\n",
    "\n",
    "plt.plot(xs, privacy_cost_sequential, label='Sequential Composition');\n",
    "plt.plot(xs, privacy_cost_advanced, label='Advanced Composition');\n",
    "plt.legend()"
   ]
  },
  {
   "cell_type": "markdown",
   "metadata": {},
   "source": [
    "In 2-5 sentences, answer the following:\n",
    "- At approximately what point do the lines representing the two approaches cross? What does this mean about **which** composition technique should be used for an iterative algorithm?\n",
    "- The two lines represent **different** privacy costs for the **same** algorithm. How can both be correct?"
   ]
  },
  {
   "cell_type": "markdown",
   "metadata": {},
   "source": [
    "* I've added the labels for the graphs. They were not present in the question. \n",
    "* The lines cross at k = 90. Sequential composition yields a better privacy cost before 90. Advanced composition has a better cost post 90. Hence, Sequential composition should be used if there are less than 90 mechanisms. Advanced compositon for greater than or equal to 90 mechanisms. \n",
    "* Sequential composition is a loose bound whereas, the advanced composition is more tightly bound. Also, advanced composition has a delta parameter which is not present in sequential composition.\n"
   ]
  },
  {
   "cell_type": "markdown",
   "metadata": {},
   "source": [
    ">> +3 points"
   ]
  },
  {
   "cell_type": "markdown",
   "metadata": {},
   "source": [
    "### Question 19 (3 points)\n",
    "\n",
    "In the cell below, define a function that implements the vector version of the Laplace mechanism. An implementation that works for a single number is defined for reference as `laplace_mech` above."
   ]
  },
  {
   "cell_type": "code",
   "execution_count": 29,
   "metadata": {},
   "outputs": [],
   "source": [
    "def laplace_mech_vec(qs, sensitivity, epsilon):\n",
    "    '''\n",
    "    Vector version of Laplace Mech\n",
    "    '''\n",
    "    # Invoke Laplace once and sample the required values\n",
    "    return qs + np.random.laplace(loc=0, scale=sensitivity / epsilon, size = len(qs)) "
   ]
  },
  {
   "cell_type": "markdown",
   "metadata": {},
   "source": [
    ">> +3 points"
   ]
  },
  {
   "cell_type": "markdown",
   "metadata": {},
   "source": [
    "### Question 20 (3 points)\n",
    "\n",
    "In the cell below, define a function that implements the vector version of the Gaussian mechanism. An implementation that works for a single number is defined for reference as `gaussian_mech` above."
   ]
  },
  {
   "cell_type": "code",
   "execution_count": 30,
   "metadata": {},
   "outputs": [],
   "source": [
    "def gaussian_mech(v, sensitivity, epsilon, delta):\n",
    "    sigma = sensitivity * np.sqrt(2 * np.log(1.25 / delta)) / epsilon\n",
    "    return v + np.random.normal(loc=0, scale = sigma)\n",
    "\n",
    "\n",
    "def gaussian_mech_vec(qs, sensitivity, epsilon, delta):\n",
    "    '''\n",
    "    Vector version of Gaussian Mech\n",
    "    '''\n",
    "    sigma = sensitivity * np.sqrt(2 * np.log(1.25 / delta)) / epsilon\n",
    "    # Invoke Gaussian once and sample the required values\n",
    "    return qs + np.random.normal(loc=0, scale=sigma, size=len(qs))"
   ]
  },
  {
   "cell_type": "markdown",
   "metadata": {},
   "source": [
    ">> +3 points"
   ]
  },
  {
   "cell_type": "markdown",
   "metadata": {},
   "source": [
    "### Question 21 (4 points)\n",
    "\n",
    "Consider the code below, which defines three average queries and runs them on `adult_data`, using the Laplace mechanism to provide differential privacy with $\\epsilon = 1$ for each query."
   ]
  },
  {
   "cell_type": "code",
   "execution_count": 31,
   "metadata": {},
   "outputs": [
    {
     "data": {
      "text/plain": [
       "[235.98968090660605, 1981.2278185559412, 38.58164675532078]"
      ]
     },
     "execution_count": 31,
     "metadata": {},
     "output_type": "execute_result"
    }
   ],
   "source": [
    "b_capgain = 3000\n",
    "b_year = 3000\n",
    "b_age = 3000\n",
    "\n",
    "epsilon = 1\n",
    "n = len(adult_data)\n",
    "\n",
    "def query1():\n",
    "    return np.sum(z_clip(adult_data['Capital Gain'], b_capgain))/n\n",
    "\n",
    "def query2():\n",
    "    return np.sum(z_clip(adult_data['DOB'].dt.year, b_year))/n\n",
    "\n",
    "def query3():\n",
    "    return np.sum(z_clip(adult_data['Age'], b_age))/n\n",
    "\n",
    "def my_query():\n",
    "    return [query1(), query2(), query3()]\n",
    "\n",
    "my_query()"
   ]
  },
  {
   "cell_type": "markdown",
   "metadata": {},
   "source": [
    "In 2-5 sentences, answer the following:\n",
    "- What is the $L_1$ sensitivity of `my_query`, and why?\n",
    "- What is the $L_2$ sensitivity of `my_query`, and why?"
   ]
  },
  {
   "cell_type": "markdown",
   "metadata": {},
   "source": [
    "* $L_1$ sensitivity of my_query is 0.2764. Since  'n' is not being queried, the sensitivity of the average query becomes $max / n$. Max is the clipping bound range (Here it is 3,000). Hence the overall sensitivity is $3000/n * 3 = 9000/32561 = 0.2764$\n",
    "* $L_2$ sensitivity of my_query is 0.1595. $L_2$ sensitivity is the square root of the sum of the squares of individual sensitivities. "
   ]
  },
  {
   "cell_type": "markdown",
   "metadata": {},
   "source": [
    ">> +4 points"
   ]
  },
  {
   "cell_type": "markdown",
   "metadata": {},
   "source": [
    "### Question 22 (6 points)\n",
    "\n",
    "In the cell below, write code to release the results of calling `my_query()` with differential privacy, without using sequential composition.\n",
    "\n",
    "*Hint*: use `laplace_mech_vec`, but be careful of sensitivity!"
   ]
  },
  {
   "cell_type": "code",
   "execution_count": 33,
   "metadata": {},
   "outputs": [
    {
     "data": {
      "text/plain": [
       "array([ 236.22302466, 1981.07400172,   38.62858608])"
      ]
     },
     "execution_count": 33,
     "metadata": {},
     "output_type": "execute_result"
    }
   ],
   "source": [
    "# Sensitivity will be the L1 Sensitivity\n",
    "laplace_mech_vec(my_query(), 0.2764, epsilon)"
   ]
  },
  {
   "cell_type": "markdown",
   "metadata": {},
   "source": [
    ">> +6 points"
   ]
  },
  {
   "cell_type": "markdown",
   "metadata": {},
   "source": [
    "### Question 23 (4 points)\n",
    "\n",
    "In 2-5 sentences, answer the following:\n",
    "- What is the total privacy cost of your answer to Question 22, and why?"
   ]
  },
  {
   "cell_type": "markdown",
   "metadata": {},
   "source": [
    "Privacy Cost is $ \\epsilon $. This is not sequential composition. We invoke Laplace only once and we sample 3 values from it. "
   ]
  },
  {
   "cell_type": "markdown",
   "metadata": {},
   "source": [
    "### Question 24 (6 points)\n",
    "\n",
    "In the cell below, write code to release the results of `my_query()` with differential privacy, but using the Gaussian mechanism."
   ]
  },
  {
   "cell_type": "code",
   "execution_count": 35,
   "metadata": {},
   "outputs": [
    {
     "data": {
      "text/plain": [
       "array([ 236.12616633, 1981.17146782,   38.01373164])"
      ]
     },
     "execution_count": 35,
     "metadata": {},
     "output_type": "execute_result"
    }
   ],
   "source": [
    "# using L2 sensitivity and a delta of 1e-5\n",
    "gaussian_mech_vec(my_query(), 0.1595, epsilon, 1e-5)"
   ]
  },
  {
   "cell_type": "markdown",
   "metadata": {},
   "source": [
    "### Extra Credit\n",
    "\n",
    "You may earn up to 10 points of extra credit on this homework by providing *narrated proofs* of the Sequential and Parallel Composition Theorems (Week 8 lecture, slide 16). You must prove the Theorems as they are stated on the slide, following the same notation. Understanding that these proofs are well-known and you may look them up, I am requesting that you *narrate* your proof completely.  That is, for each step in the proof, provide narrative justification for this step. The proof of each Theorem will be graded on a 5 point scale.\n",
    "\n",
    "You should upload your proofs as a separate file. Please type your responses. You may use LaTeX or Word. The same collaboration guidelines apply here. You are required to work indepedently."
   ]
  },
  {
   "cell_type": "code",
   "execution_count": 8,
   "metadata": {},
   "outputs": [],
   "source": [
    "# Please submit your reponses via separate file."
   ]
  }
 ],
 "metadata": {
  "kernelspec": {
   "display_name": "Python 3",
   "language": "python",
   "name": "python3"
  },
  "language_info": {
   "codemirror_mode": {
    "name": "ipython",
    "version": 3
   },
   "file_extension": ".py",
   "mimetype": "text/x-python",
   "name": "python",
   "nbconvert_exporter": "python",
   "pygments_lexer": "ipython3",
   "version": "3.7.3"
  }
 },
 "nbformat": 4,
 "nbformat_minor": 2
}
